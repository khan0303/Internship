{
 "cells": [
  {
   "cell_type": "code",
   "execution_count": 63,
   "id": "e9b4f92e",
   "metadata": {},
   "outputs": [
    {
     "name": "stdout",
     "output_type": "stream",
     "text": [
      "Requirement already satisfied: selenium in c:\\users\\nabeel\\anaconda3\\lib\\site-packages (4.2.0)\n",
      "Requirement already satisfied: trio~=0.17 in c:\\users\\nabeel\\anaconda3\\lib\\site-packages (from selenium) (0.21.0)\n",
      "Requirement already satisfied: trio-websocket~=0.9 in c:\\users\\nabeel\\anaconda3\\lib\\site-packages (from selenium) (0.9.2)\n",
      "Requirement already satisfied: urllib3[secure,socks]~=1.26 in c:\\users\\nabeel\\anaconda3\\lib\\site-packages (from selenium) (1.26.7)\n",
      "Requirement already satisfied: idna in c:\\users\\nabeel\\anaconda3\\lib\\site-packages (from trio~=0.17->selenium) (3.2)\n",
      "Requirement already satisfied: sortedcontainers in c:\\users\\nabeel\\anaconda3\\lib\\site-packages (from trio~=0.17->selenium) (2.4.0)\n",
      "Requirement already satisfied: async-generator>=1.9 in c:\\users\\nabeel\\anaconda3\\lib\\site-packages (from trio~=0.17->selenium) (1.10)\n",
      "Requirement already satisfied: attrs>=19.2.0 in c:\\users\\nabeel\\anaconda3\\lib\\site-packages (from trio~=0.17->selenium) (21.2.0)\n",
      "Requirement already satisfied: cffi>=1.14 in c:\\users\\nabeel\\anaconda3\\lib\\site-packages (from trio~=0.17->selenium) (1.14.6)\n",
      "Requirement already satisfied: outcome in c:\\users\\nabeel\\anaconda3\\lib\\site-packages (from trio~=0.17->selenium) (1.1.0)\n",
      "Requirement already satisfied: sniffio in c:\\users\\nabeel\\anaconda3\\lib\\site-packages (from trio~=0.17->selenium) (1.2.0)\n",
      "Requirement already satisfied: pycparser in c:\\users\\nabeel\\anaconda3\\lib\\site-packages (from cffi>=1.14->trio~=0.17->selenium) (2.20)\n",
      "Requirement already satisfied: wsproto>=0.14 in c:\\users\\nabeel\\anaconda3\\lib\\site-packages (from trio-websocket~=0.9->selenium) (1.1.0)\n",
      "Requirement already satisfied: PySocks!=1.5.7,<2.0,>=1.5.6 in c:\\users\\nabeel\\anaconda3\\lib\\site-packages (from urllib3[secure,socks]~=1.26->selenium) (1.7.1)\n",
      "Requirement already satisfied: pyOpenSSL>=0.14 in c:\\users\\nabeel\\anaconda3\\lib\\site-packages (from urllib3[secure,socks]~=1.26->selenium) (21.0.0)\n",
      "Requirement already satisfied: cryptography>=1.3.4 in c:\\users\\nabeel\\anaconda3\\lib\\site-packages (from urllib3[secure,socks]~=1.26->selenium) (3.4.8)\n",
      "Requirement already satisfied: certifi in c:\\users\\nabeel\\anaconda3\\lib\\site-packages (from urllib3[secure,socks]~=1.26->selenium) (2021.10.8)\n",
      "Requirement already satisfied: six>=1.5.2 in c:\\users\\nabeel\\anaconda3\\lib\\site-packages (from pyOpenSSL>=0.14->urllib3[secure,socks]~=1.26->selenium) (1.16.0)\n",
      "Requirement already satisfied: h11<1,>=0.9.0 in c:\\users\\nabeel\\anaconda3\\lib\\site-packages (from wsproto>=0.14->trio-websocket~=0.9->selenium) (0.13.0)\n"
     ]
    }
   ],
   "source": [
    "!pip install selenium\n"
   ]
  },
  {
   "cell_type": "code",
   "execution_count": 64,
   "id": "f6840375",
   "metadata": {},
   "outputs": [],
   "source": [
    "#Importing Necessary Library\n",
    "import selenium\n",
    "from selenium import webdriver\n",
    "import pandas as pd\n",
    "import time\n",
    "from time import sleep\n",
    "import warnings\n",
    "warnings.filterwarnings(\"ignore\")"
   ]
  },
  {
   "cell_type": "code",
   "execution_count": 65,
   "id": "40bbb4ab",
   "metadata": {},
   "outputs": [],
   "source": [
    "# Let first connect the web driver\n",
    "driver = webdriver.Chrome(r\"C:\\Web Driver\\chromedriver.exe\")"
   ]
  },
  {
   "cell_type": "markdown",
   "id": "b1e54074",
   "metadata": {},
   "source": [
    "Question:1 "
   ]
  },
  {
   "cell_type": "code",
   "execution_count": 66,
   "id": "160bdc3d",
   "metadata": {},
   "outputs": [],
   "source": [
    "url = 'https://www.naukri.com/'\n",
    "driver.get(url)"
   ]
  },
  {
   "cell_type": "code",
   "execution_count": 67,
   "id": "04440008",
   "metadata": {},
   "outputs": [
    {
     "data": {
      "text/plain": [
       "<selenium.webdriver.remote.webelement.WebElement (session=\"9ef416127e258b8c5eac487b0298fabf\", element=\"70cd4ff6-07a1-4c6c-a6b5-3a5795d4a260\")>"
      ]
     },
     "execution_count": 67,
     "metadata": {},
     "output_type": "execute_result"
    }
   ],
   "source": [
    "#Finding web element for search job bar using id\n",
    "search_job = driver.find_element_by_xpath('//input[@class=\"suggestor-input \"]')\n",
    "search_job"
   ]
  },
  {
   "cell_type": "code",
   "execution_count": 68,
   "id": "adbafade",
   "metadata": {},
   "outputs": [],
   "source": [
    "#Write on search bar\n",
    "search_job.send_keys('Data Analyst')"
   ]
  },
  {
   "cell_type": "code",
   "execution_count": 69,
   "id": "4da2ebe1",
   "metadata": {},
   "outputs": [],
   "source": [
    "search_field_location = driver.find_element_by_xpath('/html/body/div/div[2]/div[3]/div/div/div[5]/div/div/div/input')\n",
    "search_field_location.send_keys(\"Bangalore\")"
   ]
  },
  {
   "cell_type": "code",
   "execution_count": 70,
   "id": "f0870f25",
   "metadata": {},
   "outputs": [],
   "source": [
    "#Clicking Search Button\n",
    "search_button = driver.find_element_by_xpath('/html/body/div/div[2]/div[3]/div/div[1]/div[6]')\n",
    "search_button.click()"
   ]
  },
  {
   "cell_type": "code",
   "execution_count": 71,
   "id": "7aa60be6",
   "metadata": {},
   "outputs": [
    {
     "data": {
      "text/plain": [
       "20"
      ]
     },
     "execution_count": 71,
     "metadata": {},
     "output_type": "execute_result"
    }
   ],
   "source": [
    "#Extracting all the elements having job titles.\n",
    "title_tags = driver.find_elements_by_xpath('//a[@class=\"title fw500 ellipsis\"]')\n",
    "len(title_tags)"
   ]
  },
  {
   "cell_type": "code",
   "execution_count": 72,
   "id": "7a38bd53",
   "metadata": {},
   "outputs": [
    {
     "data": {
      "text/plain": [
       "20"
      ]
     },
     "execution_count": 72,
     "metadata": {},
     "output_type": "execute_result"
    }
   ],
   "source": [
    "job_title = []\n",
    "\n",
    "for i in title_tags:\n",
    "    job_title.append(i.text)\n",
    "    \n",
    "len(job_title)"
   ]
  },
  {
   "cell_type": "code",
   "execution_count": 73,
   "id": "b6af6ca9",
   "metadata": {},
   "outputs": [
    {
     "data": {
      "text/plain": [
       "20"
      ]
     },
     "execution_count": 73,
     "metadata": {},
     "output_type": "execute_result"
    }
   ],
   "source": [
    "#Extracting Company Names\n",
    "company_tags = driver.find_elements_by_xpath('//a[@class=\"subTitle ellipsis fleft\"]')\n",
    "len(company_tags)"
   ]
  },
  {
   "cell_type": "code",
   "execution_count": 74,
   "id": "61c76dc4",
   "metadata": {},
   "outputs": [
    {
     "data": {
      "text/plain": [
       "20"
      ]
     },
     "execution_count": 74,
     "metadata": {},
     "output_type": "execute_result"
    }
   ],
   "source": [
    "company_name = []\n",
    "\n",
    "for i in company_tags:\n",
    "    company_name.append(i.text)\n",
    "    \n",
    "len(company_name)"
   ]
  },
  {
   "cell_type": "code",
   "execution_count": 75,
   "id": "8037ce2d",
   "metadata": {},
   "outputs": [
    {
     "data": {
      "text/plain": [
       "20"
      ]
     },
     "execution_count": 75,
     "metadata": {},
     "output_type": "execute_result"
    }
   ],
   "source": [
    "#Extracting Job Location\n",
    "loc_tags = driver.find_elements_by_xpath('//li[@class=\"fleft grey-text br2 placeHolderLi location\"]')\n",
    "len(loc_tags)"
   ]
  },
  {
   "cell_type": "code",
   "execution_count": 76,
   "id": "6c984576",
   "metadata": {},
   "outputs": [
    {
     "data": {
      "text/plain": [
       "20"
      ]
     },
     "execution_count": 76,
     "metadata": {},
     "output_type": "execute_result"
    }
   ],
   "source": [
    "location = []\n",
    "\n",
    "for i in loc_tags:\n",
    "    location.append(i.text)\n",
    "    \n",
    "len(location)"
   ]
  },
  {
   "cell_type": "code",
   "execution_count": 77,
   "id": "055df336",
   "metadata": {},
   "outputs": [
    {
     "data": {
      "text/plain": [
       "20"
      ]
     },
     "execution_count": 77,
     "metadata": {},
     "output_type": "execute_result"
    }
   ],
   "source": [
    "#Extracting Exp.\n",
    "exp_tags = driver.find_elements_by_xpath('//li[@class=\"fleft grey-text br2 placeHolderLi experience\"]')\n",
    "len(exp_tags)"
   ]
  },
  {
   "cell_type": "code",
   "execution_count": 78,
   "id": "d8deb35f",
   "metadata": {},
   "outputs": [
    {
     "data": {
      "text/plain": [
       "20"
      ]
     },
     "execution_count": 78,
     "metadata": {},
     "output_type": "execute_result"
    }
   ],
   "source": [
    "experience = []\n",
    "\n",
    "for i in exp_tags:\n",
    "    experience.append(i.text)\n",
    "    \n",
    "len(experience)"
   ]
  },
  {
   "cell_type": "code",
   "execution_count": 79,
   "id": "301fca83",
   "metadata": {},
   "outputs": [],
   "source": [
    "#Selecting first 10 jobs\n",
    "job = job_title[:10]\n",
    "company = company_name[:10]\n",
    "locations = location[:10]\n",
    "exp = experience[:10]"
   ]
  },
  {
   "cell_type": "code",
   "execution_count": 80,
   "id": "e8769844",
   "metadata": {},
   "outputs": [
    {
     "data": {
      "text/html": [
       "<div>\n",
       "<style scoped>\n",
       "    .dataframe tbody tr th:only-of-type {\n",
       "        vertical-align: middle;\n",
       "    }\n",
       "\n",
       "    .dataframe tbody tr th {\n",
       "        vertical-align: top;\n",
       "    }\n",
       "\n",
       "    .dataframe thead th {\n",
       "        text-align: right;\n",
       "    }\n",
       "</style>\n",
       "<table border=\"1\" class=\"dataframe\">\n",
       "  <thead>\n",
       "    <tr style=\"text-align: right;\">\n",
       "      <th></th>\n",
       "      <th>Job Title</th>\n",
       "      <th>Company</th>\n",
       "      <th>Experience</th>\n",
       "      <th>Location</th>\n",
       "    </tr>\n",
       "  </thead>\n",
       "  <tbody>\n",
       "    <tr>\n",
       "      <th>0</th>\n",
       "      <td>Business Data Analyst</td>\n",
       "      <td>NXP Semiconductors</td>\n",
       "      <td>2-5 Yrs</td>\n",
       "      <td>Bangalore/Bengaluru</td>\n",
       "    </tr>\n",
       "    <tr>\n",
       "      <th>1</th>\n",
       "      <td>EY GDS Data Analyst-Finland based project</td>\n",
       "      <td>EY</td>\n",
       "      <td>0-1 Yrs</td>\n",
       "      <td>Bangalore/Bengaluru</td>\n",
       "    </tr>\n",
       "    <tr>\n",
       "      <th>2</th>\n",
       "      <td>Business &amp; Data Analyst - Alteryx (London)</td>\n",
       "      <td>Imaginative Brains LLP</td>\n",
       "      <td>5-10 Yrs</td>\n",
       "      <td>Bangalore/Bengaluru, Delhi / NCR, Mumbai (All ...</td>\n",
       "    </tr>\n",
       "    <tr>\n",
       "      <th>3</th>\n",
       "      <td>Data analyst / Data scientist, AVP</td>\n",
       "      <td>Deutsche Bank</td>\n",
       "      <td>6-11 Yrs</td>\n",
       "      <td>Bangalore/Bengaluru</td>\n",
       "    </tr>\n",
       "    <tr>\n",
       "      <th>4</th>\n",
       "      <td>Data analyst / Data scientist, Associate</td>\n",
       "      <td>Deutsche Bank</td>\n",
       "      <td>5-8 Yrs</td>\n",
       "      <td>Bangalore/Bengaluru</td>\n",
       "    </tr>\n",
       "    <tr>\n",
       "      <th>5</th>\n",
       "      <td>Data Analyst - Data and Analytics</td>\n",
       "      <td>Intel</td>\n",
       "      <td>3-6 Yrs</td>\n",
       "      <td>Bangalore/Bengaluru</td>\n",
       "    </tr>\n",
       "    <tr>\n",
       "      <th>6</th>\n",
       "      <td>Senior Mis Data Analyst</td>\n",
       "      <td>Barbeque Nation</td>\n",
       "      <td>5-8 Yrs</td>\n",
       "      <td>Bangalore/Bengaluru(Sarjapur), Delhi / NCR, Mu...</td>\n",
       "    </tr>\n",
       "    <tr>\n",
       "      <th>7</th>\n",
       "      <td>Junior Data Analyst/ Scientist- Fresher Position</td>\n",
       "      <td>Sejal Consulting Hub</td>\n",
       "      <td>0-3 Yrs</td>\n",
       "      <td>Remote</td>\n",
       "    </tr>\n",
       "    <tr>\n",
       "      <th>8</th>\n",
       "      <td>Senior Data Analyst</td>\n",
       "      <td>Flipkart</td>\n",
       "      <td>3-7 Yrs</td>\n",
       "      <td>Bangalore/Bengaluru</td>\n",
       "    </tr>\n",
       "    <tr>\n",
       "      <th>9</th>\n",
       "      <td>Senior Data Analyst</td>\n",
       "      <td>Walmart</td>\n",
       "      <td>4-7 Yrs</td>\n",
       "      <td>Bangalore/Bengaluru</td>\n",
       "    </tr>\n",
       "  </tbody>\n",
       "</table>\n",
       "</div>"
      ],
      "text/plain": [
       "                                          Job Title                 Company  \\\n",
       "0                             Business Data Analyst      NXP Semiconductors   \n",
       "1         EY GDS Data Analyst-Finland based project                      EY   \n",
       "2        Business & Data Analyst - Alteryx (London)  Imaginative Brains LLP   \n",
       "3                Data analyst / Data scientist, AVP           Deutsche Bank   \n",
       "4          Data analyst / Data scientist, Associate           Deutsche Bank   \n",
       "5                 Data Analyst - Data and Analytics                   Intel   \n",
       "6                           Senior Mis Data Analyst         Barbeque Nation   \n",
       "7  Junior Data Analyst/ Scientist- Fresher Position    Sejal Consulting Hub   \n",
       "8                               Senior Data Analyst                Flipkart   \n",
       "9                               Senior Data Analyst                 Walmart   \n",
       "\n",
       "  Experience                                           Location  \n",
       "0    2-5 Yrs                                Bangalore/Bengaluru  \n",
       "1    0-1 Yrs                                Bangalore/Bengaluru  \n",
       "2   5-10 Yrs  Bangalore/Bengaluru, Delhi / NCR, Mumbai (All ...  \n",
       "3   6-11 Yrs                                Bangalore/Bengaluru  \n",
       "4    5-8 Yrs                                Bangalore/Bengaluru  \n",
       "5    3-6 Yrs                                Bangalore/Bengaluru  \n",
       "6    5-8 Yrs  Bangalore/Bengaluru(Sarjapur), Delhi / NCR, Mu...  \n",
       "7    0-3 Yrs                                             Remote  \n",
       "8    3-7 Yrs                                Bangalore/Bengaluru  \n",
       "9    4-7 Yrs                                Bangalore/Bengaluru  "
      ]
     },
     "execution_count": 80,
     "metadata": {},
     "output_type": "execute_result"
    }
   ],
   "source": [
    "# Making DataFrame\n",
    "Jobs = pd.DataFrame({'Job Title' : job, 'Company' : company, 'Experience' : exp, 'Location' : locations})\n",
    "Jobs"
   ]
  },
  {
   "cell_type": "markdown",
   "id": "bbdfdea2",
   "metadata": {},
   "source": [
    "Question: 2"
   ]
  },
  {
   "cell_type": "code",
   "execution_count": 81,
   "id": "a19ad52b",
   "metadata": {},
   "outputs": [],
   "source": [
    "url = 'https://www.naukri.com/'\n",
    "driver.get(url)"
   ]
  },
  {
   "cell_type": "code",
   "execution_count": 82,
   "id": "e6580742",
   "metadata": {},
   "outputs": [],
   "source": [
    "#Finding element for job search\n",
    "search_field_designation = driver.find_element_by_class_name(\"suggestor-input\") #job search for\n",
    "search_field_designation.send_keys(\"Data Scientist\")"
   ]
  },
  {
   "cell_type": "code",
   "execution_count": 83,
   "id": "d7cf24cc",
   "metadata": {},
   "outputs": [],
   "source": [
    "search_field_location = driver.find_element_by_xpath('/html/body/div/div[2]/div[3]/div/div/div[5]/div/div/div/input')\n",
    "search_field_location.send_keys(\"Bangalore\")"
   ]
  },
  {
   "cell_type": "code",
   "execution_count": 84,
   "id": "47f8ae0b",
   "metadata": {},
   "outputs": [],
   "source": [
    "#Clicking Search Button\n",
    "search_button = driver.find_element_by_xpath('/html/body/div/div[2]/div[3]/div/div[1]/div[6]')\n",
    "search_button.click()"
   ]
  },
  {
   "cell_type": "code",
   "execution_count": 85,
   "id": "2946aae5",
   "metadata": {},
   "outputs": [
    {
     "data": {
      "text/plain": [
       "20"
      ]
     },
     "execution_count": 85,
     "metadata": {},
     "output_type": "execute_result"
    }
   ],
   "source": [
    "#Extracting all the elements having job titles.\n",
    "title_tags = driver.find_elements_by_xpath('//a[@class=\"title fw500 ellipsis\"]')\n",
    "len(title_tags)"
   ]
  },
  {
   "cell_type": "code",
   "execution_count": 86,
   "id": "8a4994d1",
   "metadata": {},
   "outputs": [
    {
     "data": {
      "text/plain": [
       "20"
      ]
     },
     "execution_count": 86,
     "metadata": {},
     "output_type": "execute_result"
    }
   ],
   "source": [
    "job_title = []\n",
    "\n",
    "for i in title_tags:\n",
    "    job_title.append(i.text)\n",
    "    \n",
    "len(job_title)"
   ]
  },
  {
   "cell_type": "code",
   "execution_count": 87,
   "id": "019729c3",
   "metadata": {},
   "outputs": [
    {
     "data": {
      "text/plain": [
       "20"
      ]
     },
     "execution_count": 87,
     "metadata": {},
     "output_type": "execute_result"
    }
   ],
   "source": [
    "company_tags = driver.find_elements_by_xpath('//a[@class=\"subTitle ellipsis fleft\"]')\n",
    "len(company_tags)"
   ]
  },
  {
   "cell_type": "code",
   "execution_count": 88,
   "id": "dd3caae9",
   "metadata": {},
   "outputs": [
    {
     "data": {
      "text/plain": [
       "20"
      ]
     },
     "execution_count": 88,
     "metadata": {},
     "output_type": "execute_result"
    }
   ],
   "source": [
    "company_name = []\n",
    "\n",
    "for i in company_tags:\n",
    "    company_name.append(i.text)\n",
    "    \n",
    "len(company_name)"
   ]
  },
  {
   "cell_type": "code",
   "execution_count": 89,
   "id": "e3cad497",
   "metadata": {},
   "outputs": [
    {
     "data": {
      "text/plain": [
       "20"
      ]
     },
     "execution_count": 89,
     "metadata": {},
     "output_type": "execute_result"
    }
   ],
   "source": [
    "loc_tags = driver.find_elements_by_xpath('//li[@class=\"fleft grey-text br2 placeHolderLi location\"]')\n",
    "len(loc_tags)"
   ]
  },
  {
   "cell_type": "code",
   "execution_count": 90,
   "id": "5d4549ac",
   "metadata": {},
   "outputs": [
    {
     "data": {
      "text/plain": [
       "20"
      ]
     },
     "execution_count": 90,
     "metadata": {},
     "output_type": "execute_result"
    }
   ],
   "source": [
    "location = []\n",
    "\n",
    "for i in loc_tags:\n",
    "    location.append(i.text)\n",
    "    \n",
    "len(location)"
   ]
  },
  {
   "cell_type": "code",
   "execution_count": 91,
   "id": "39f04895",
   "metadata": {},
   "outputs": [],
   "source": [
    "# Selecting First 10 jobs\n",
    "job = job_title[:10]\n",
    "company = company_name[:10]\n",
    "locations = location[:10]"
   ]
  },
  {
   "cell_type": "code",
   "execution_count": 92,
   "id": "b2ce7e3c",
   "metadata": {},
   "outputs": [
    {
     "data": {
      "text/html": [
       "<div>\n",
       "<style scoped>\n",
       "    .dataframe tbody tr th:only-of-type {\n",
       "        vertical-align: middle;\n",
       "    }\n",
       "\n",
       "    .dataframe tbody tr th {\n",
       "        vertical-align: top;\n",
       "    }\n",
       "\n",
       "    .dataframe thead th {\n",
       "        text-align: right;\n",
       "    }\n",
       "</style>\n",
       "<table border=\"1\" class=\"dataframe\">\n",
       "  <thead>\n",
       "    <tr style=\"text-align: right;\">\n",
       "      <th></th>\n",
       "      <th>Job Title</th>\n",
       "      <th>Company</th>\n",
       "      <th>Location</th>\n",
       "    </tr>\n",
       "  </thead>\n",
       "  <tbody>\n",
       "    <tr>\n",
       "      <th>0</th>\n",
       "      <td>AI Technologist Vacancy</td>\n",
       "      <td>Wipro</td>\n",
       "      <td>Kolkata, Hyderabad/Secunderabad, Pune, Ahmedab...</td>\n",
       "    </tr>\n",
       "    <tr>\n",
       "      <th>1</th>\n",
       "      <td>Job Opening with Wipro For Data Scientist posi...</td>\n",
       "      <td>Wipro</td>\n",
       "      <td>Kolkata, Hyderabad/Secunderabad, Chennai, Bang...</td>\n",
       "    </tr>\n",
       "    <tr>\n",
       "      <th>2</th>\n",
       "      <td>Senior Data Scientist</td>\n",
       "      <td>Walmart</td>\n",
       "      <td>Bangalore/Bengaluru</td>\n",
       "    </tr>\n",
       "    <tr>\n",
       "      <th>3</th>\n",
       "      <td>Senior Data Scientist</td>\n",
       "      <td>Walmart</td>\n",
       "      <td>Bangalore/Bengaluru</td>\n",
       "    </tr>\n",
       "    <tr>\n",
       "      <th>4</th>\n",
       "      <td>Data Scientist</td>\n",
       "      <td>Genpact</td>\n",
       "      <td>Bangalore/Bengaluru</td>\n",
       "    </tr>\n",
       "    <tr>\n",
       "      <th>5</th>\n",
       "      <td>Data Scientist</td>\n",
       "      <td>Genpact</td>\n",
       "      <td>Hyderabad/Secunderabad, Bangalore/Bengaluru, D...</td>\n",
       "    </tr>\n",
       "    <tr>\n",
       "      <th>6</th>\n",
       "      <td>Data Scientist - Immediate Joiners</td>\n",
       "      <td>Bristlecone</td>\n",
       "      <td>Noida, Mumbai, Pune, Bangalore/Bengaluru</td>\n",
       "    </tr>\n",
       "    <tr>\n",
       "      <th>7</th>\n",
       "      <td>Data Scientist- AI/ML- R&amp;D</td>\n",
       "      <td>EXL</td>\n",
       "      <td>Noida, Hyderabad/Secunderabad, Pune, Gurgaon/G...</td>\n",
       "    </tr>\n",
       "    <tr>\n",
       "      <th>8</th>\n",
       "      <td>Urgent Hiring For AI Data Scientist</td>\n",
       "      <td>Ashkom Media India Private Limited</td>\n",
       "      <td>New Delhi, Bangalore/Bengaluru, Mumbai (All Ar...</td>\n",
       "    </tr>\n",
       "    <tr>\n",
       "      <th>9</th>\n",
       "      <td>Data Scientist</td>\n",
       "      <td>UPL</td>\n",
       "      <td>Mumbai, Bangalore/Bengaluru</td>\n",
       "    </tr>\n",
       "  </tbody>\n",
       "</table>\n",
       "</div>"
      ],
      "text/plain": [
       "                                           Job Title  \\\n",
       "0                            AI Technologist Vacancy   \n",
       "1  Job Opening with Wipro For Data Scientist posi...   \n",
       "2                              Senior Data Scientist   \n",
       "3                              Senior Data Scientist   \n",
       "4                                     Data Scientist   \n",
       "5                                     Data Scientist   \n",
       "6                 Data Scientist - Immediate Joiners   \n",
       "7                         Data Scientist- AI/ML- R&D   \n",
       "8                Urgent Hiring For AI Data Scientist   \n",
       "9                                     Data Scientist   \n",
       "\n",
       "                              Company  \\\n",
       "0                               Wipro   \n",
       "1                               Wipro   \n",
       "2                             Walmart   \n",
       "3                             Walmart   \n",
       "4                             Genpact   \n",
       "5                             Genpact   \n",
       "6                         Bristlecone   \n",
       "7                                 EXL   \n",
       "8  Ashkom Media India Private Limited   \n",
       "9                                 UPL   \n",
       "\n",
       "                                            Location  \n",
       "0  Kolkata, Hyderabad/Secunderabad, Pune, Ahmedab...  \n",
       "1  Kolkata, Hyderabad/Secunderabad, Chennai, Bang...  \n",
       "2                                Bangalore/Bengaluru  \n",
       "3                                Bangalore/Bengaluru  \n",
       "4                                Bangalore/Bengaluru  \n",
       "5  Hyderabad/Secunderabad, Bangalore/Bengaluru, D...  \n",
       "6           Noida, Mumbai, Pune, Bangalore/Bengaluru  \n",
       "7  Noida, Hyderabad/Secunderabad, Pune, Gurgaon/G...  \n",
       "8  New Delhi, Bangalore/Bengaluru, Mumbai (All Ar...  \n",
       "9                        Mumbai, Bangalore/Bengaluru  "
      ]
     },
     "execution_count": 92,
     "metadata": {},
     "output_type": "execute_result"
    }
   ],
   "source": [
    "# Making DataFrame\n",
    "Dsjobs = pd.DataFrame({'Job Title' : job, 'Company' : company, 'Location' : locations})\n",
    "Dsjobs"
   ]
  },
  {
   "cell_type": "markdown",
   "id": "ba208a56",
   "metadata": {},
   "source": [
    "Question:-3\n"
   ]
  },
  {
   "cell_type": "code",
   "execution_count": 93,
   "id": "2f312176",
   "metadata": {},
   "outputs": [],
   "source": [
    "url = 'https://www.naukri.com/'\n",
    "driver.get(url)"
   ]
  },
  {
   "cell_type": "code",
   "execution_count": 94,
   "id": "937e2cbc",
   "metadata": {},
   "outputs": [],
   "source": [
    "#Finding element for job search\n",
    "search_field_designation = driver.find_element_by_class_name(\"suggestor-input\") #job search for\n",
    "search_field_designation.send_keys(\"Data Scientist\")"
   ]
  },
  {
   "cell_type": "code",
   "execution_count": 95,
   "id": "14212737",
   "metadata": {},
   "outputs": [],
   "source": [
    "#Clicking Search Button\n",
    "search_button = driver.find_element_by_xpath('/html/body/div/div[2]/div[3]/div/div[1]/div[6]')\n",
    "search_button.click()\n",
    "time.sleep(3)"
   ]
  },
  {
   "cell_type": "code",
   "execution_count": 97,
   "id": "72d84671",
   "metadata": {},
   "outputs": [],
   "source": [
    "#Selecting Location Filter\n",
    "locc = driver.find_element_by_xpath('//div[@class=\"mt-8 chckBoxCont\"][3]')\n",
    "locc.click()"
   ]
  },
  {
   "cell_type": "code",
   "execution_count": 98,
   "id": "80975c73",
   "metadata": {},
   "outputs": [],
   "source": [
    "#Selecting Salary Filter\n",
    "sall = driver.find_element_by_xpath('/html/body/div[1]/div[3]/div[2]/section[1]/div[2]/div[2]/div[2]/div[1]/label/i')\n",
    "sall.click()"
   ]
  },
  {
   "cell_type": "code",
   "execution_count": 99,
   "id": "f13c89b8",
   "metadata": {},
   "outputs": [
    {
     "data": {
      "text/plain": [
       "20"
      ]
     },
     "execution_count": 99,
     "metadata": {},
     "output_type": "execute_result"
    }
   ],
   "source": [
    "#Extracting all the elements having job titles.\n",
    "title_tags = driver.find_elements_by_xpath('//a[@class=\"title fw500 ellipsis\"]')\n",
    "len(title_tags)"
   ]
  },
  {
   "cell_type": "code",
   "execution_count": 100,
   "id": "77b10650",
   "metadata": {},
   "outputs": [
    {
     "data": {
      "text/plain": [
       "20"
      ]
     },
     "execution_count": 100,
     "metadata": {},
     "output_type": "execute_result"
    }
   ],
   "source": [
    "job_title = []\n",
    "\n",
    "for i in title_tags:\n",
    "    job_title.append(i.text)\n",
    "    \n",
    "len(job_title)"
   ]
  },
  {
   "cell_type": "code",
   "execution_count": 101,
   "id": "97960417",
   "metadata": {},
   "outputs": [
    {
     "data": {
      "text/plain": [
       "20"
      ]
     },
     "execution_count": 101,
     "metadata": {},
     "output_type": "execute_result"
    }
   ],
   "source": [
    "company_tags = driver.find_elements_by_xpath('//a[@class=\"subTitle ellipsis fleft\"]')\n",
    "len(company_tags)"
   ]
  },
  {
   "cell_type": "code",
   "execution_count": 102,
   "id": "ca8a6d0c",
   "metadata": {},
   "outputs": [
    {
     "data": {
      "text/plain": [
       "20"
      ]
     },
     "execution_count": 102,
     "metadata": {},
     "output_type": "execute_result"
    }
   ],
   "source": [
    "company_name = []\n",
    "\n",
    "for i in company_tags:\n",
    "    company_name.append(i.text)\n",
    "    \n",
    "len(company_name)"
   ]
  },
  {
   "cell_type": "code",
   "execution_count": 103,
   "id": "29a30064",
   "metadata": {},
   "outputs": [
    {
     "data": {
      "text/plain": [
       "20"
      ]
     },
     "execution_count": 103,
     "metadata": {},
     "output_type": "execute_result"
    }
   ],
   "source": [
    "loc_tags = driver.find_elements_by_xpath('//li[@class=\"fleft grey-text br2 placeHolderLi location\"]')\n",
    "len(loc_tags)"
   ]
  },
  {
   "cell_type": "code",
   "execution_count": 108,
   "id": "dd6910e7",
   "metadata": {},
   "outputs": [
    {
     "data": {
      "text/plain": [
       "20"
      ]
     },
     "execution_count": 108,
     "metadata": {},
     "output_type": "execute_result"
    }
   ],
   "source": [
    "location = []\n",
    "\n",
    "for i in loc_tags:\n",
    "    location.append(i.text)\n",
    "    \n",
    "len(location)"
   ]
  },
  {
   "cell_type": "code",
   "execution_count": 109,
   "id": "13b619d1",
   "metadata": {},
   "outputs": [
    {
     "data": {
      "text/plain": [
       "20"
      ]
     },
     "execution_count": 109,
     "metadata": {},
     "output_type": "execute_result"
    }
   ],
   "source": [
    "exp_tags = driver.find_elements_by_xpath('//li[@class=\"fleft grey-text br2 placeHolderLi experience\"]')\n",
    "len(exp_tags)"
   ]
  },
  {
   "cell_type": "code",
   "execution_count": 110,
   "id": "64613e98",
   "metadata": {},
   "outputs": [
    {
     "data": {
      "text/plain": [
       "20"
      ]
     },
     "execution_count": 110,
     "metadata": {},
     "output_type": "execute_result"
    }
   ],
   "source": [
    "experience = []\n",
    "\n",
    "for i in exp_tags:\n",
    "    experience.append(i.text)\n",
    "    \n",
    "len(experience)"
   ]
  },
  {
   "cell_type": "code",
   "execution_count": 111,
   "id": "adf31781",
   "metadata": {},
   "outputs": [],
   "source": [
    "job = job_title[:10]\n",
    "company = company_name[:10]\n",
    "locations = location[:10]\n",
    "exp = experience[:10]"
   ]
  },
  {
   "cell_type": "code",
   "execution_count": 112,
   "id": "ccb70b7d",
   "metadata": {},
   "outputs": [
    {
     "data": {
      "text/html": [
       "<div>\n",
       "<style scoped>\n",
       "    .dataframe tbody tr th:only-of-type {\n",
       "        vertical-align: middle;\n",
       "    }\n",
       "\n",
       "    .dataframe tbody tr th {\n",
       "        vertical-align: top;\n",
       "    }\n",
       "\n",
       "    .dataframe thead th {\n",
       "        text-align: right;\n",
       "    }\n",
       "</style>\n",
       "<table border=\"1\" class=\"dataframe\">\n",
       "  <thead>\n",
       "    <tr style=\"text-align: right;\">\n",
       "      <th></th>\n",
       "      <th>Job Title</th>\n",
       "      <th>Company</th>\n",
       "      <th>Experience</th>\n",
       "      <th>Location</th>\n",
       "    </tr>\n",
       "  </thead>\n",
       "  <tbody>\n",
       "    <tr>\n",
       "      <th>0</th>\n",
       "      <td>Senior Software Developer ASP.Net</td>\n",
       "      <td>Porteck</td>\n",
       "      <td>3-6 Yrs</td>\n",
       "      <td>Noida(Sector-63 Noida)\\n(WFH during Covid)</td>\n",
       "    </tr>\n",
       "    <tr>\n",
       "      <th>1</th>\n",
       "      <td>Software Developer Intern (Third Year and Fina...</td>\n",
       "      <td>Athmin Technologies Private Limited</td>\n",
       "      <td>0-0 Yrs</td>\n",
       "      <td>Noida(Sector-63 Noida)\\n(WFH during Covid)</td>\n",
       "    </tr>\n",
       "    <tr>\n",
       "      <th>2</th>\n",
       "      <td>Software Developer - Fresher</td>\n",
       "      <td>Athmin Technologies Private Limited</td>\n",
       "      <td>0-0 Yrs</td>\n",
       "      <td>Noida(Sector-63 Noida)\\n(WFH during Covid)</td>\n",
       "    </tr>\n",
       "    <tr>\n",
       "      <th>3</th>\n",
       "      <td>Python (Django / Odoo) Developer - Immediate C...</td>\n",
       "      <td>Flexsin Technologies Pvt. Ltd.</td>\n",
       "      <td>3-7 Yrs</td>\n",
       "      <td>Noida(Sector-63 Noida)\\n(WFH during Covid)</td>\n",
       "    </tr>\n",
       "    <tr>\n",
       "      <th>4</th>\n",
       "      <td>Full Stack Developer</td>\n",
       "      <td>I3CLogic Technologies Pvt Ltd</td>\n",
       "      <td>4-9 Yrs</td>\n",
       "      <td>Noida(Sector-62 Noida)\\n(WFH during Covid)</td>\n",
       "    </tr>\n",
       "    <tr>\n",
       "      <th>5</th>\n",
       "      <td>Senior/Principal Full stack Developer -Core Ba...</td>\n",
       "      <td>Oracle</td>\n",
       "      <td>5-10 Yrs</td>\n",
       "      <td>Pune, Bangalore/Bengaluru, Mumbai (All Areas)\\...</td>\n",
       "    </tr>\n",
       "    <tr>\n",
       "      <th>6</th>\n",
       "      <td>Senior Java Developer_1221</td>\n",
       "      <td>Opalina Technologies Pvt Ltd</td>\n",
       "      <td>5-10 Yrs</td>\n",
       "      <td>Noida(Sector-63 Noida)\\n(WFH during Covid)</td>\n",
       "    </tr>\n",
       "    <tr>\n",
       "      <th>7</th>\n",
       "      <td>Full stack Developer -Banking</td>\n",
       "      <td>Oracle</td>\n",
       "      <td>6-11 Yrs</td>\n",
       "      <td>Pune, Chennai, Bangalore/Bengaluru, Mumbai (Al...</td>\n",
       "    </tr>\n",
       "    <tr>\n",
       "      <th>8</th>\n",
       "      <td>Java Developer</td>\n",
       "      <td>Tech Mahindra</td>\n",
       "      <td>1-2 Yrs</td>\n",
       "      <td>Hyderabad/Secunderabad, Pune, Chennai, Bangalo...</td>\n",
       "    </tr>\n",
       "    <tr>\n",
       "      <th>9</th>\n",
       "      <td>Software Developer (Show Systems)</td>\n",
       "      <td>DNEG INDIA MEDIA SERVICES LIMITED</td>\n",
       "      <td>2-6 Yrs</td>\n",
       "      <td>Chennai, Bangalore/Bengaluru, Mumbai (All Area...</td>\n",
       "    </tr>\n",
       "  </tbody>\n",
       "</table>\n",
       "</div>"
      ],
      "text/plain": [
       "                                           Job Title  \\\n",
       "0                  Senior Software Developer ASP.Net   \n",
       "1  Software Developer Intern (Third Year and Fina...   \n",
       "2                       Software Developer - Fresher   \n",
       "3  Python (Django / Odoo) Developer - Immediate C...   \n",
       "4                               Full Stack Developer   \n",
       "5  Senior/Principal Full stack Developer -Core Ba...   \n",
       "6                         Senior Java Developer_1221   \n",
       "7                      Full stack Developer -Banking   \n",
       "8                                     Java Developer   \n",
       "9                  Software Developer (Show Systems)   \n",
       "\n",
       "                               Company Experience  \\\n",
       "0                              Porteck    3-6 Yrs   \n",
       "1  Athmin Technologies Private Limited    0-0 Yrs   \n",
       "2  Athmin Technologies Private Limited    0-0 Yrs   \n",
       "3       Flexsin Technologies Pvt. Ltd.    3-7 Yrs   \n",
       "4        I3CLogic Technologies Pvt Ltd    4-9 Yrs   \n",
       "5                               Oracle   5-10 Yrs   \n",
       "6         Opalina Technologies Pvt Ltd   5-10 Yrs   \n",
       "7                               Oracle   6-11 Yrs   \n",
       "8                        Tech Mahindra    1-2 Yrs   \n",
       "9    DNEG INDIA MEDIA SERVICES LIMITED    2-6 Yrs   \n",
       "\n",
       "                                            Location  \n",
       "0         Noida(Sector-63 Noida)\\n(WFH during Covid)  \n",
       "1         Noida(Sector-63 Noida)\\n(WFH during Covid)  \n",
       "2         Noida(Sector-63 Noida)\\n(WFH during Covid)  \n",
       "3         Noida(Sector-63 Noida)\\n(WFH during Covid)  \n",
       "4         Noida(Sector-62 Noida)\\n(WFH during Covid)  \n",
       "5  Pune, Bangalore/Bengaluru, Mumbai (All Areas)\\...  \n",
       "6         Noida(Sector-63 Noida)\\n(WFH during Covid)  \n",
       "7  Pune, Chennai, Bangalore/Bengaluru, Mumbai (Al...  \n",
       "8  Hyderabad/Secunderabad, Pune, Chennai, Bangalo...  \n",
       "9  Chennai, Bangalore/Bengaluru, Mumbai (All Area...  "
      ]
     },
     "execution_count": 112,
     "metadata": {},
     "output_type": "execute_result"
    }
   ],
   "source": [
    "DSJobs = pd.DataFrame({'Job Title' : job, 'Company' : company, 'Experience' : exp, 'Location' : locations})\n",
    "DSJobs"
   ]
  },
  {
   "cell_type": "markdown",
   "id": "a09404c6",
   "metadata": {},
   "source": [
    "Question: 4"
   ]
  },
  {
   "cell_type": "code",
   "execution_count": 113,
   "id": "57028d5a",
   "metadata": {},
   "outputs": [],
   "source": [
    "url = 'https://www.flipkart.com/'\n",
    "driver.get(url)"
   ]
  },
  {
   "cell_type": "code",
   "execution_count": 114,
   "id": "a2d197c8",
   "metadata": {},
   "outputs": [],
   "source": [
    "#Cancelling the login popup that appears.\n",
    "cancel = driver.find_element_by_xpath('//button[@class=\"_2KpZ6l _2doB4z\"]')\n",
    "cancel.click()"
   ]
  },
  {
   "cell_type": "code",
   "execution_count": 115,
   "id": "bf82728a",
   "metadata": {},
   "outputs": [],
   "source": [
    "search_product = driver.find_element_by_xpath('//input[@class=\"_3704LK\"]')\n",
    "search_product.send_keys('Sunglasses')"
   ]
  },
  {
   "cell_type": "code",
   "execution_count": 116,
   "id": "e78589e1",
   "metadata": {},
   "outputs": [],
   "source": [
    "search_click = driver.find_element_by_xpath('//button[@class=\"L0Z3Pu\"]')\n",
    "search_click.click()\n",
    "\n",
    "time.sleep(3)"
   ]
  },
  {
   "cell_type": "code",
   "execution_count": 118,
   "id": "7aae9aa3",
   "metadata": {},
   "outputs": [],
   "source": [
    "# Extracting Data from Page1\n",
    "brand = driver.find_elements_by_xpath('//div[@class=\"_2WkVRV\"]')[:40]"
   ]
  },
  {
   "cell_type": "code",
   "execution_count": 119,
   "id": "48ff6f8b",
   "metadata": {},
   "outputs": [
    {
     "data": {
      "text/plain": [
       "40"
      ]
     },
     "execution_count": 119,
     "metadata": {},
     "output_type": "execute_result"
    }
   ],
   "source": [
    "brand_name1 = []\n",
    "\n",
    "for i in brand:\n",
    "    brand_name1.append(i.text)\n",
    "    \n",
    "len(brand_name1)"
   ]
  },
  {
   "cell_type": "code",
   "execution_count": 120,
   "id": "53edb1b6",
   "metadata": {},
   "outputs": [
    {
     "data": {
      "text/plain": [
       "40"
      ]
     },
     "execution_count": 120,
     "metadata": {},
     "output_type": "execute_result"
    }
   ],
   "source": [
    "pd = driver.find_elements_by_xpath('//a[@class=\"IRpwTa\"]')[:40]\n",
    "description1 = []\n",
    "\n",
    "for i in pd:\n",
    "    description1.append(i.text)\n",
    "    \n",
    "len(description1)"
   ]
  },
  {
   "cell_type": "code",
   "execution_count": 121,
   "id": "06356485",
   "metadata": {},
   "outputs": [
    {
     "data": {
      "text/plain": [
       "40"
      ]
     },
     "execution_count": 121,
     "metadata": {},
     "output_type": "execute_result"
    }
   ],
   "source": [
    "price = driver.find_elements_by_xpath('//div[@class=\"_30jeq3\"]')[:40]\n",
    "price1 = []\n",
    "\n",
    "for i in price:\n",
    "    price1.append(i.text)\n",
    "    \n",
    "len(price1)"
   ]
  },
  {
   "cell_type": "code",
   "execution_count": 122,
   "id": "b0e333a5",
   "metadata": {},
   "outputs": [
    {
     "data": {
      "text/plain": [
       "40"
      ]
     },
     "execution_count": 122,
     "metadata": {},
     "output_type": "execute_result"
    }
   ],
   "source": [
    "dis = driver.find_elements_by_xpath('//div[@class=\"_3Ay6Sb\"]')[:40]\n",
    "discount1 = []\n",
    "\n",
    "for i in dis:\n",
    "    discount1.append(i.text)\n",
    "    \n",
    "len(discount1)"
   ]
  },
  {
   "cell_type": "code",
   "execution_count": 123,
   "id": "0070b722",
   "metadata": {},
   "outputs": [],
   "source": [
    "# Moving to Next Page i.e. Page2\n",
    "try:\n",
    "    next_pg = driver.find_element_by_xpath('//a[@class=\"_1LKTO3\"][2]')\n",
    "    next_pg.click()\n",
    "except:\n",
    "    next_pg = driver.find_element_by_xpath('//a[@class=\"_1LKTO3\"]')  \n",
    "next_pg.click()\n",
    "    "
   ]
  },
  {
   "cell_type": "code",
   "execution_count": 124,
   "id": "ff2300ce",
   "metadata": {},
   "outputs": [
    {
     "data": {
      "text/plain": [
       "40"
      ]
     },
     "execution_count": 124,
     "metadata": {},
     "output_type": "execute_result"
    }
   ],
   "source": [
    "#Extracting Data from Page2\n",
    "brand = driver.find_elements_by_xpath('//div[@class=\"_2WkVRV\"]')[:40]\n",
    "\n",
    "brand_name2 = []\n",
    "\n",
    "for i in brand:\n",
    "    brand_name2.append(i.text)\n",
    "    \n",
    "len(brand_name2)"
   ]
  },
  {
   "cell_type": "code",
   "execution_count": 125,
   "id": "fd4d1cd6",
   "metadata": {},
   "outputs": [
    {
     "data": {
      "text/plain": [
       "40"
      ]
     },
     "execution_count": 125,
     "metadata": {},
     "output_type": "execute_result"
    }
   ],
   "source": [
    "pd = driver.find_elements_by_xpath('//a[@class=\"IRpwTa\"]')[:40]\n",
    "\n",
    "description2 = []\n",
    "\n",
    "for i in pd:\n",
    "    description2.append(i.text)\n",
    "    \n",
    "len(description2)"
   ]
  },
  {
   "cell_type": "code",
   "execution_count": 126,
   "id": "3c8e0ea3",
   "metadata": {},
   "outputs": [
    {
     "data": {
      "text/plain": [
       "40"
      ]
     },
     "execution_count": 126,
     "metadata": {},
     "output_type": "execute_result"
    }
   ],
   "source": [
    "price = driver.find_elements_by_xpath('//div[@class=\"_30jeq3\"]')[:40]\n",
    "\n",
    "price2 = []\n",
    "\n",
    "for i in price:\n",
    "    price2.append(i.text)\n",
    "    \n",
    "len(price2)"
   ]
  },
  {
   "cell_type": "code",
   "execution_count": 127,
   "id": "2dc1c410",
   "metadata": {},
   "outputs": [
    {
     "data": {
      "text/plain": [
       "40"
      ]
     },
     "execution_count": 127,
     "metadata": {},
     "output_type": "execute_result"
    }
   ],
   "source": [
    "dis = driver.find_elements_by_xpath('//div[@class=\"_3Ay6Sb\"]')[:40]\n",
    "\n",
    "discount2 = []\n",
    "\n",
    "for i in dis:\n",
    "    discount2.append(i.text)\n",
    "    \n",
    "len(discount2)"
   ]
  },
  {
   "cell_type": "code",
   "execution_count": 128,
   "id": "151cb851",
   "metadata": {},
   "outputs": [
    {
     "data": {
      "text/plain": [
       "20"
      ]
     },
     "execution_count": 128,
     "metadata": {},
     "output_type": "execute_result"
    }
   ],
   "source": [
    "# Moving to Next Page i.e. Page3\n",
    "brand = driver.find_elements_by_xpath('//div[@class=\"_2WkVRV\"]')[:20]\n",
    "\n",
    "brand_name3 = []\n",
    "\n",
    "for i in brand:\n",
    "    brand_name3.append(i.text)\n",
    "    \n",
    "len(brand_name3)"
   ]
  },
  {
   "cell_type": "code",
   "execution_count": 129,
   "id": "d2f2f447",
   "metadata": {},
   "outputs": [
    {
     "data": {
      "text/plain": [
       "20"
      ]
     },
     "execution_count": 129,
     "metadata": {},
     "output_type": "execute_result"
    }
   ],
   "source": [
    "pd = driver.find_elements_by_xpath('//a[@class=\"IRpwTa\"]')[:20]\n",
    "\n",
    "description3 = []\n",
    "\n",
    "for i in pd:\n",
    "    description3.append(i.text)\n",
    "    \n",
    "len(description3)"
   ]
  },
  {
   "cell_type": "code",
   "execution_count": 130,
   "id": "cac47f8d",
   "metadata": {},
   "outputs": [
    {
     "data": {
      "text/plain": [
       "20"
      ]
     },
     "execution_count": 130,
     "metadata": {},
     "output_type": "execute_result"
    }
   ],
   "source": [
    "price = driver.find_elements_by_xpath('//div[@class=\"_30jeq3\"]')[:20]\n",
    "\n",
    "price3 = []\n",
    "\n",
    "for i in price:\n",
    "    price3.append(i.text)\n",
    "    \n",
    "len(price3)"
   ]
  },
  {
   "cell_type": "code",
   "execution_count": 131,
   "id": "952a7c6b",
   "metadata": {},
   "outputs": [
    {
     "data": {
      "text/plain": [
       "20"
      ]
     },
     "execution_count": 131,
     "metadata": {},
     "output_type": "execute_result"
    }
   ],
   "source": [
    "dis = driver.find_elements_by_xpath('//div[@class=\"_3Ay6Sb\"]')[:20]\n",
    "\n",
    "discount3 = []\n",
    "\n",
    "for i in dis:\n",
    "    discount3.append(i.text)\n",
    "    \n",
    "len(discount3)"
   ]
  },
  {
   "cell_type": "code",
   "execution_count": 132,
   "id": "f6d40c4d",
   "metadata": {},
   "outputs": [
    {
     "data": {
      "text/plain": [
       "100"
      ]
     },
     "execution_count": 132,
     "metadata": {},
     "output_type": "execute_result"
    }
   ],
   "source": [
    "# Adding all the lists together\n",
    "brand_name = brand_name1 + brand_name2 + brand_name3\n",
    "len(brand_name)"
   ]
  },
  {
   "cell_type": "code",
   "execution_count": 134,
   "id": "f41db739",
   "metadata": {},
   "outputs": [
    {
     "data": {
      "text/plain": [
       "100"
      ]
     },
     "execution_count": 134,
     "metadata": {},
     "output_type": "execute_result"
    }
   ],
   "source": [
    "description = description1 + description2 + description3\n",
    "len(description)"
   ]
  },
  {
   "cell_type": "code",
   "execution_count": 135,
   "id": "e210cd8e",
   "metadata": {},
   "outputs": [
    {
     "data": {
      "text/plain": [
       "100"
      ]
     },
     "execution_count": 135,
     "metadata": {},
     "output_type": "execute_result"
    }
   ],
   "source": [
    "prices = price1 + price2 + price3\n",
    "len(prices)"
   ]
  },
  {
   "cell_type": "code",
   "execution_count": 136,
   "id": "8a5d5001",
   "metadata": {},
   "outputs": [
    {
     "data": {
      "text/plain": [
       "100"
      ]
     },
     "execution_count": 136,
     "metadata": {},
     "output_type": "execute_result"
    }
   ],
   "source": [
    "discount = discount1 + discount2 + discount3\n",
    "len(discount)"
   ]
  },
  {
   "cell_type": "code",
   "execution_count": 137,
   "id": "e6d38b1b",
   "metadata": {},
   "outputs": [],
   "source": [
    "# Making DataFrame\n",
    "import pandas as pd"
   ]
  },
  {
   "cell_type": "code",
   "execution_count": 138,
   "id": "94cf8030",
   "metadata": {},
   "outputs": [
    {
     "data": {
      "text/html": [
       "<div>\n",
       "<style scoped>\n",
       "    .dataframe tbody tr th:only-of-type {\n",
       "        vertical-align: middle;\n",
       "    }\n",
       "\n",
       "    .dataframe tbody tr th {\n",
       "        vertical-align: top;\n",
       "    }\n",
       "\n",
       "    .dataframe thead th {\n",
       "        text-align: right;\n",
       "    }\n",
       "</style>\n",
       "<table border=\"1\" class=\"dataframe\">\n",
       "  <thead>\n",
       "    <tr style=\"text-align: right;\">\n",
       "      <th></th>\n",
       "      <th>Brand Name</th>\n",
       "      <th>Brand Description</th>\n",
       "      <th>Price</th>\n",
       "      <th>Discount</th>\n",
       "    </tr>\n",
       "  </thead>\n",
       "  <tbody>\n",
       "    <tr>\n",
       "      <th>0</th>\n",
       "      <td>Mi</td>\n",
       "      <td>Polarized Aviator Sunglasses (Free Size)</td>\n",
       "      <td>₹649</td>\n",
       "      <td>45% off</td>\n",
       "    </tr>\n",
       "    <tr>\n",
       "      <th>1</th>\n",
       "      <td>Mi</td>\n",
       "      <td>Polarized Aviator Sunglasses (Free Size)</td>\n",
       "      <td>₹649</td>\n",
       "      <td>45% off</td>\n",
       "    </tr>\n",
       "    <tr>\n",
       "      <th>2</th>\n",
       "      <td>Fastrack</td>\n",
       "      <td>UV Protection Rectangular Sunglasses (Free Size)</td>\n",
       "      <td>₹639</td>\n",
       "      <td>20% off</td>\n",
       "    </tr>\n",
       "    <tr>\n",
       "      <th>3</th>\n",
       "      <td>SRPM</td>\n",
       "      <td>UV Protection Wayfarer Sunglasses (50)</td>\n",
       "      <td>₹199</td>\n",
       "      <td>84% off</td>\n",
       "    </tr>\n",
       "    <tr>\n",
       "      <th>4</th>\n",
       "      <td>Fastrack</td>\n",
       "      <td>UV Protection Wayfarer Sunglasses (Free Size)</td>\n",
       "      <td>₹699</td>\n",
       "      <td>30% off</td>\n",
       "    </tr>\n",
       "    <tr>\n",
       "      <th>...</th>\n",
       "      <td>...</td>\n",
       "      <td>...</td>\n",
       "      <td>...</td>\n",
       "      <td>...</td>\n",
       "    </tr>\n",
       "    <tr>\n",
       "      <th>95</th>\n",
       "      <td>Lee Topper</td>\n",
       "      <td>UV Protection Cat-eye Sunglasses (Free Size)</td>\n",
       "      <td>₹259</td>\n",
       "      <td>80% off</td>\n",
       "    </tr>\n",
       "    <tr>\n",
       "      <th>96</th>\n",
       "      <td>ROYAL SON</td>\n",
       "      <td>Polarized, UV Protection Sports Sunglasses (68)</td>\n",
       "      <td>₹1,039</td>\n",
       "      <td>58% off</td>\n",
       "    </tr>\n",
       "    <tr>\n",
       "      <th>97</th>\n",
       "      <td>Fastrack</td>\n",
       "      <td>UV Protection Wayfarer Sunglasses (Free Size)</td>\n",
       "      <td>₹759</td>\n",
       "      <td>15% off</td>\n",
       "    </tr>\n",
       "    <tr>\n",
       "      <th>98</th>\n",
       "      <td>PHENOMENAL</td>\n",
       "      <td>UV Protection Retro Square Sunglasses (Free Size)</td>\n",
       "      <td>₹341</td>\n",
       "      <td>82% off</td>\n",
       "    </tr>\n",
       "    <tr>\n",
       "      <th>99</th>\n",
       "      <td>Fastrack</td>\n",
       "      <td>UV Protection Wayfarer Sunglasses (54)</td>\n",
       "      <td>₹629</td>\n",
       "      <td>30% off</td>\n",
       "    </tr>\n",
       "  </tbody>\n",
       "</table>\n",
       "<p>100 rows × 4 columns</p>\n",
       "</div>"
      ],
      "text/plain": [
       "    Brand Name                                  Brand Description   Price  \\\n",
       "0           Mi           Polarized Aviator Sunglasses (Free Size)    ₹649   \n",
       "1           Mi           Polarized Aviator Sunglasses (Free Size)    ₹649   \n",
       "2     Fastrack   UV Protection Rectangular Sunglasses (Free Size)    ₹639   \n",
       "3         SRPM             UV Protection Wayfarer Sunglasses (50)    ₹199   \n",
       "4     Fastrack      UV Protection Wayfarer Sunglasses (Free Size)    ₹699   \n",
       "..         ...                                                ...     ...   \n",
       "95  Lee Topper       UV Protection Cat-eye Sunglasses (Free Size)    ₹259   \n",
       "96   ROYAL SON    Polarized, UV Protection Sports Sunglasses (68)  ₹1,039   \n",
       "97    Fastrack      UV Protection Wayfarer Sunglasses (Free Size)    ₹759   \n",
       "98  PHENOMENAL  UV Protection Retro Square Sunglasses (Free Size)    ₹341   \n",
       "99    Fastrack             UV Protection Wayfarer Sunglasses (54)    ₹629   \n",
       "\n",
       "   Discount  \n",
       "0   45% off  \n",
       "1   45% off  \n",
       "2   20% off  \n",
       "3   84% off  \n",
       "4   30% off  \n",
       "..      ...  \n",
       "95  80% off  \n",
       "96  58% off  \n",
       "97  15% off  \n",
       "98  82% off  \n",
       "99  30% off  \n",
       "\n",
       "[100 rows x 4 columns]"
      ]
     },
     "execution_count": 138,
     "metadata": {},
     "output_type": "execute_result"
    }
   ],
   "source": [
    "df = pd.DataFrame({'Brand Name':brand_name, 'Brand Description':description, 'Price':prices, 'Discount':discount})\n",
    "df"
   ]
  },
  {
   "cell_type": "markdown",
   "id": "52aab203",
   "metadata": {},
   "source": [
    "Question: 5"
   ]
  },
  {
   "cell_type": "code",
   "execution_count": 139,
   "id": "8ff0ab69",
   "metadata": {},
   "outputs": [],
   "source": [
    "url = 'https://www.flipkart.com/apple-iphone-11-black-64-gb-includes- earpods-power- adapter/p/itm0f37c2240b217?pid=MOBFKCTSVZAXUHGR&lid=LSTMOBFKC TSVZAXUHGREPBFGI&marketplace.'\n",
    "driver.get(url)"
   ]
  },
  {
   "cell_type": "code",
   "execution_count": 140,
   "id": "925c2227",
   "metadata": {},
   "outputs": [],
   "source": [
    "all_review = driver.find_element_by_xpath('//div[@class=\"_3UAT2v _16PBlm\"]')\n",
    "all_review.click()"
   ]
  },
  {
   "cell_type": "code",
   "execution_count": 141,
   "id": "2fa88835",
   "metadata": {},
   "outputs": [
    {
     "data": {
      "text/plain": [
       "10"
      ]
     },
     "execution_count": 141,
     "metadata": {},
     "output_type": "execute_result"
    }
   ],
   "source": [
    "# Extracting Page1 data:\n",
    "rating = driver.find_elements_by_xpath('//div[@class=\"_3LWZlK _1BLPMq\"]')\n",
    "\n",
    "rating1 = []\n",
    "\n",
    "for i in rating:\n",
    "    rating1.append(i.text)\n",
    "    \n",
    "len(rating1)"
   ]
  },
  {
   "cell_type": "code",
   "execution_count": 142,
   "id": "c93e68cd",
   "metadata": {},
   "outputs": [
    {
     "data": {
      "text/plain": [
       "10"
      ]
     },
     "execution_count": 142,
     "metadata": {},
     "output_type": "execute_result"
    }
   ],
   "source": [
    "review = driver.find_elements_by_xpath('//p[@class=\"_2-N8zT\"]')\n",
    "\n",
    "summary1 = []\n",
    "\n",
    "for i in review:\n",
    "    summary1.append(i.text)\n",
    "    \n",
    "len(summary1)"
   ]
  },
  {
   "cell_type": "code",
   "execution_count": 143,
   "id": "421d2b18",
   "metadata": {},
   "outputs": [
    {
     "data": {
      "text/plain": [
       "10"
      ]
     },
     "execution_count": 143,
     "metadata": {},
     "output_type": "execute_result"
    }
   ],
   "source": [
    "fullr = driver.find_elements_by_xpath('//div[@class=\"t-ZTKy\"]')\n",
    "\n",
    "Fullr1 = []\n",
    "\n",
    "for i in fullr:\n",
    "    Fullr1.append(i.text)\n",
    "    \n",
    "len(Fullr1)"
   ]
  },
  {
   "cell_type": "code",
   "execution_count": 144,
   "id": "aa4171de",
   "metadata": {},
   "outputs": [],
   "source": [
    "# Moving to page2 data:\n",
    "try:\n",
    "    next_pg = driver.find_element_by_xpath('//a[@class=\"_1LKTO3\"][2]')\n",
    "    next_pg.click()\n",
    "except:\n",
    "    next_pg = driver.find_element_by_xpath('//a[@class=\"_1LKTO3\"]')  \n",
    "    next_pg.click()"
   ]
  },
  {
   "cell_type": "code",
   "execution_count": 145,
   "id": "79f05a15",
   "metadata": {},
   "outputs": [
    {
     "data": {
      "text/plain": [
       "10"
      ]
     },
     "execution_count": 145,
     "metadata": {},
     "output_type": "execute_result"
    }
   ],
   "source": [
    "rating = driver.find_elements_by_xpath('//div[@class=\"_3LWZlK _1BLPMq\"]')\n",
    "\n",
    "rating2 = []\n",
    "\n",
    "for i in rating:\n",
    "    rating2.append(i.text)\n",
    "    \n",
    "len(rating2)"
   ]
  },
  {
   "cell_type": "code",
   "execution_count": 146,
   "id": "22d42e8a",
   "metadata": {},
   "outputs": [
    {
     "data": {
      "text/plain": [
       "10"
      ]
     },
     "execution_count": 146,
     "metadata": {},
     "output_type": "execute_result"
    }
   ],
   "source": [
    "review = driver.find_elements_by_xpath('//p[@class=\"_2-N8zT\"]')\n",
    "\n",
    "summary2 = []\n",
    "\n",
    "for i in review:\n",
    "    summary2.append(i.text)\n",
    "    \n",
    "len(summary2)"
   ]
  },
  {
   "cell_type": "code",
   "execution_count": 147,
   "id": "fdf3f008",
   "metadata": {},
   "outputs": [
    {
     "data": {
      "text/plain": [
       "10"
      ]
     },
     "execution_count": 147,
     "metadata": {},
     "output_type": "execute_result"
    }
   ],
   "source": [
    "fullr = driver.find_elements_by_xpath('//div[@class=\"t-ZTKy\"]')\n",
    "\n",
    "Fullr2 = []\n",
    "\n",
    "for i in fullr:\n",
    "    Fullr2.append(i.text)\n",
    "    \n",
    "len(Fullr2)"
   ]
  },
  {
   "cell_type": "code",
   "execution_count": 148,
   "id": "9cd59824",
   "metadata": {},
   "outputs": [],
   "source": [
    "# Moving to page3 data:\n",
    "try:\n",
    "    next_pg = driver.find_element_by_xpath('//a[@class=\"_1LKTO3\"][2]') #for next page using indexing\n",
    "    next_pg.click()\n",
    "except:\n",
    "    next_pg = driver.find_element_by_xpath('//a[@class=\"_1LKTO3\"]')  \n",
    "    next_pg.click()"
   ]
  },
  {
   "cell_type": "code",
   "execution_count": 149,
   "id": "748e374e",
   "metadata": {},
   "outputs": [
    {
     "data": {
      "text/plain": [
       "10"
      ]
     },
     "execution_count": 149,
     "metadata": {},
     "output_type": "execute_result"
    }
   ],
   "source": [
    "rating = driver.find_elements_by_xpath('//div[@class=\"_3LWZlK _1BLPMq\"]')\n",
    "\n",
    "rating3 = []\n",
    "\n",
    "for i in rating:\n",
    "    rating3.append(i.text)\n",
    "    \n",
    "len(rating3)"
   ]
  },
  {
   "cell_type": "code",
   "execution_count": 150,
   "id": "84430669",
   "metadata": {},
   "outputs": [
    {
     "data": {
      "text/plain": [
       "10"
      ]
     },
     "execution_count": 150,
     "metadata": {},
     "output_type": "execute_result"
    }
   ],
   "source": [
    "review = driver.find_elements_by_xpath('//p[@class=\"_2-N8zT\"]')\n",
    "\n",
    "summary3 = []\n",
    "\n",
    "for i in review:\n",
    "    summary3.append(i.text)\n",
    "    \n",
    "len(summary3)\n"
   ]
  },
  {
   "cell_type": "code",
   "execution_count": 151,
   "id": "0147e0f0",
   "metadata": {},
   "outputs": [
    {
     "data": {
      "text/plain": [
       "10"
      ]
     },
     "execution_count": 151,
     "metadata": {},
     "output_type": "execute_result"
    }
   ],
   "source": [
    "fullr = driver.find_elements_by_xpath('//div[@class=\"t-ZTKy\"]')\n",
    "\n",
    "Fullr3 = []\n",
    "\n",
    "for i in fullr:\n",
    "    Fullr3.append(i.text)\n",
    "    \n",
    "len(Fullr3)"
   ]
  },
  {
   "cell_type": "code",
   "execution_count": 152,
   "id": "236943a8",
   "metadata": {},
   "outputs": [],
   "source": [
    "# Moving to page4 data:\n",
    "try:\n",
    "    next_pg = driver.find_element_by_xpath('//a[@class=\"_1LKTO3\"][2]') #for next page using indexing\n",
    "    next_pg.click()\n",
    "except:\n",
    "    next_pg = driver.find_element_by_xpath('//a[@class=\"_1LKTO3\"]')  \n",
    "    next_pg.click()"
   ]
  },
  {
   "cell_type": "code",
   "execution_count": 153,
   "id": "d3caaf54",
   "metadata": {},
   "outputs": [
    {
     "data": {
      "text/plain": [
       "10"
      ]
     },
     "execution_count": 153,
     "metadata": {},
     "output_type": "execute_result"
    }
   ],
   "source": [
    "rating = driver.find_elements_by_xpath('//div[@class=\"_3LWZlK _1BLPMq\"]')\n",
    "\n",
    "rating4 = []\n",
    "\n",
    "for i in rating:\n",
    "    rating4.append(i.text)\n",
    "    \n",
    "len(rating4)"
   ]
  },
  {
   "cell_type": "code",
   "execution_count": 154,
   "id": "35458495",
   "metadata": {},
   "outputs": [
    {
     "data": {
      "text/plain": [
       "10"
      ]
     },
     "execution_count": 154,
     "metadata": {},
     "output_type": "execute_result"
    }
   ],
   "source": [
    "review = driver.find_elements_by_xpath('//p[@class=\"_2-N8zT\"]')\n",
    "\n",
    "summary4 = []\n",
    "\n",
    "for i in review:\n",
    "    summary4.append(i.text)\n",
    "    \n",
    "len(summary4)"
   ]
  },
  {
   "cell_type": "code",
   "execution_count": 155,
   "id": "49420150",
   "metadata": {},
   "outputs": [
    {
     "data": {
      "text/plain": [
       "10"
      ]
     },
     "execution_count": 155,
     "metadata": {},
     "output_type": "execute_result"
    }
   ],
   "source": [
    "fullr = driver.find_elements_by_xpath('//div[@class=\"t-ZTKy\"]')\n",
    "\n",
    "Fullr4 = []\n",
    "\n",
    "for i in fullr:\n",
    "    Fullr4.append(i.text)\n",
    "    \n",
    "len(Fullr4)"
   ]
  },
  {
   "cell_type": "code",
   "execution_count": 156,
   "id": "35afcaea",
   "metadata": {},
   "outputs": [],
   "source": [
    "# Moving to page5 data:\n",
    "try:\n",
    "    next_pg = driver.find_element_by_xpath('//a[@class=\"_1LKTO3\"][2]') #for next page using indexing\n",
    "    next_pg.click()\n",
    "except:\n",
    "    next_pg = driver.find_element_by_xpath('//a[@class=\"_1LKTO3\"]')  \n",
    "    next_pg.click()"
   ]
  },
  {
   "cell_type": "code",
   "execution_count": 186,
   "id": "6a3ffc97",
   "metadata": {},
   "outputs": [
    {
     "data": {
      "text/plain": [
       "10"
      ]
     },
     "execution_count": 186,
     "metadata": {},
     "output_type": "execute_result"
    }
   ],
   "source": [
    "rating = driver.find_elements_by_xpath('//div[@class=\"_3LWZlK _1BLPMq\"]')\n",
    "\n",
    "rating5 = []\n",
    "\n",
    "for i in rating:\n",
    "    rating5.append(i.text)\n",
    "    \n",
    "len(rating5)"
   ]
  },
  {
   "cell_type": "code",
   "execution_count": 159,
   "id": "f4a71225",
   "metadata": {},
   "outputs": [
    {
     "data": {
      "text/plain": [
       "10"
      ]
     },
     "execution_count": 159,
     "metadata": {},
     "output_type": "execute_result"
    }
   ],
   "source": [
    "review = driver.find_elements_by_xpath('//p[@class=\"_2-N8zT\"]')\n",
    "\n",
    "summary5 = []\n",
    "\n",
    "for i in review:\n",
    "    summary5.append(i.text)\n",
    "    \n",
    "len(summary5)"
   ]
  },
  {
   "cell_type": "code",
   "execution_count": 160,
   "id": "c5c27c3e",
   "metadata": {},
   "outputs": [
    {
     "data": {
      "text/plain": [
       "10"
      ]
     },
     "execution_count": 160,
     "metadata": {},
     "output_type": "execute_result"
    }
   ],
   "source": [
    "fullr = driver.find_elements_by_xpath('//div[@class=\"t-ZTKy\"]')\n",
    "\n",
    "Fullr5 = []\n",
    "\n",
    "for i in fullr:\n",
    "    Fullr5.append(i.text)\n",
    "    \n",
    "len(Fullr5)"
   ]
  },
  {
   "cell_type": "code",
   "execution_count": 161,
   "id": "6c14b461",
   "metadata": {},
   "outputs": [],
   "source": [
    "# Moving to page6 data:\n",
    "try:\n",
    "    next_pg = driver.find_element_by_xpath('//a[@class=\"_1LKTO3\"][2]') #for next page using indexing\n",
    "    next_pg.click()\n",
    "except:\n",
    "    next_pg = driver.find_element_by_xpath('//a[@class=\"_1LKTO3\"]')  \n",
    "    next_pg.click()"
   ]
  },
  {
   "cell_type": "code",
   "execution_count": 162,
   "id": "d21ed433",
   "metadata": {},
   "outputs": [
    {
     "data": {
      "text/plain": [
       "10"
      ]
     },
     "execution_count": 162,
     "metadata": {},
     "output_type": "execute_result"
    }
   ],
   "source": [
    "rating = driver.find_elements_by_xpath('//div[@class=\"_3LWZlK _1BLPMq\"]')\n",
    "\n",
    "rating6 = []\n",
    "\n",
    "for i in rating:\n",
    "    rating6.append(i.text)\n",
    "    \n",
    "len(rating6)"
   ]
  },
  {
   "cell_type": "code",
   "execution_count": 163,
   "id": "a483ad40",
   "metadata": {},
   "outputs": [
    {
     "data": {
      "text/plain": [
       "10"
      ]
     },
     "execution_count": 163,
     "metadata": {},
     "output_type": "execute_result"
    }
   ],
   "source": [
    "review = driver.find_elements_by_xpath('//p[@class=\"_2-N8zT\"]')\n",
    "\n",
    "summary6 = []\n",
    "\n",
    "for i in review:\n",
    "    summary6.append(i.text)\n",
    "    \n",
    "len(summary6)"
   ]
  },
  {
   "cell_type": "code",
   "execution_count": 164,
   "id": "e0d30f6a",
   "metadata": {},
   "outputs": [
    {
     "data": {
      "text/plain": [
       "10"
      ]
     },
     "execution_count": 164,
     "metadata": {},
     "output_type": "execute_result"
    }
   ],
   "source": [
    "fullr = driver.find_elements_by_xpath('//div[@class=\"t-ZTKy\"]')\n",
    "\n",
    "Fullr6 = []\n",
    "\n",
    "for i in fullr:\n",
    "    Fullr6.append(i.text)\n",
    "    \n",
    "len(Fullr6)"
   ]
  },
  {
   "cell_type": "code",
   "execution_count": 165,
   "id": "344be9f3",
   "metadata": {},
   "outputs": [],
   "source": [
    "# Moving to page7 data:\n",
    "try:\n",
    "    next_pg = driver.find_element_by_xpath('//a[@class=\"_1LKTO3\"][2]') #for next page using indexing\n",
    "    next_pg.click()\n",
    "except:\n",
    "    next_pg = driver.find_element_by_xpath('//a[@class=\"_1LKTO3\"]')  \n",
    "    next_pg.click()"
   ]
  },
  {
   "cell_type": "code",
   "execution_count": 166,
   "id": "8b832de5",
   "metadata": {},
   "outputs": [
    {
     "data": {
      "text/plain": [
       "10"
      ]
     },
     "execution_count": 166,
     "metadata": {},
     "output_type": "execute_result"
    }
   ],
   "source": [
    "rating = driver.find_elements_by_xpath('//div[@class=\"_3LWZlK _1BLPMq\"]')\n",
    "\n",
    "rating7 = []\n",
    "\n",
    "for i in rating:\n",
    "    rating7.append(i.text)\n",
    "    \n",
    "len(rating7)"
   ]
  },
  {
   "cell_type": "code",
   "execution_count": 167,
   "id": "b249bac1",
   "metadata": {},
   "outputs": [
    {
     "data": {
      "text/plain": [
       "10"
      ]
     },
     "execution_count": 167,
     "metadata": {},
     "output_type": "execute_result"
    }
   ],
   "source": [
    "review = driver.find_elements_by_xpath('//p[@class=\"_2-N8zT\"]')\n",
    "\n",
    "summary7 = []\n",
    "\n",
    "for i in review:\n",
    "    summary7.append(i.text)\n",
    "    \n",
    "len(summary7)"
   ]
  },
  {
   "cell_type": "code",
   "execution_count": 168,
   "id": "d992576f",
   "metadata": {},
   "outputs": [
    {
     "data": {
      "text/plain": [
       "10"
      ]
     },
     "execution_count": 168,
     "metadata": {},
     "output_type": "execute_result"
    }
   ],
   "source": [
    "fullr = driver.find_elements_by_xpath('//div[@class=\"t-ZTKy\"]')\n",
    "\n",
    "Fullr7 = []\n",
    "\n",
    "for i in fullr:\n",
    "    Fullr7.append(i.text)\n",
    "    \n",
    "len(Fullr7)"
   ]
  },
  {
   "cell_type": "code",
   "execution_count": 169,
   "id": "5e8b00dd",
   "metadata": {},
   "outputs": [],
   "source": [
    "# Moving to page 8 data:\n",
    "try:\n",
    "    next_pg = driver.find_element_by_xpath('//a[@class=\"_1LKTO3\"][2]') #for next page using indexing\n",
    "    next_pg.click()\n",
    "except:\n",
    "    next_pg = driver.find_element_by_xpath('//a[@class=\"_1LKTO3\"]')  \n",
    "    next_pg.click()\n"
   ]
  },
  {
   "cell_type": "code",
   "execution_count": 170,
   "id": "a0c0d6d3",
   "metadata": {},
   "outputs": [
    {
     "data": {
      "text/plain": [
       "10"
      ]
     },
     "execution_count": 170,
     "metadata": {},
     "output_type": "execute_result"
    }
   ],
   "source": [
    "rating = driver.find_elements_by_xpath('//div[@class=\"_3LWZlK _1BLPMq\"]')\n",
    "\n",
    "rating8 = []\n",
    "\n",
    "for i in rating:\n",
    "    rating8.append(i.text)\n",
    "    \n",
    "len(rating8)"
   ]
  },
  {
   "cell_type": "code",
   "execution_count": 171,
   "id": "e9b3b47f",
   "metadata": {},
   "outputs": [
    {
     "data": {
      "text/plain": [
       "10"
      ]
     },
     "execution_count": 171,
     "metadata": {},
     "output_type": "execute_result"
    }
   ],
   "source": [
    "\n",
    "review = driver.find_elements_by_xpath('//p[@class=\"_2-N8zT\"]')\n",
    "\n",
    "summary8 = []\n",
    "\n",
    "for i in review:\n",
    "    summary8.append(i.text)\n",
    "    \n",
    "len(summary8)"
   ]
  },
  {
   "cell_type": "code",
   "execution_count": 172,
   "id": "15029a53",
   "metadata": {},
   "outputs": [
    {
     "data": {
      "text/plain": [
       "10"
      ]
     },
     "execution_count": 172,
     "metadata": {},
     "output_type": "execute_result"
    }
   ],
   "source": [
    "fullr = driver.find_elements_by_xpath('//div[@class=\"t-ZTKy\"]')\n",
    "\n",
    "Fullr8 = []\n",
    "\n",
    "for i in fullr:\n",
    "    Fullr8.append(i.text)\n",
    "    \n",
    "len(Fullr8)"
   ]
  },
  {
   "cell_type": "code",
   "execution_count": 173,
   "id": "7c4acddc",
   "metadata": {},
   "outputs": [],
   "source": [
    "# Moving to page 9 data:\n",
    "try:\n",
    "    next_pg = driver.find_element_by_xpath('//a[@class=\"_1LKTO3\"][2]') #for next page using indexing\n",
    "    next_pg.click()\n",
    "except:\n",
    "    next_pg = driver.find_element_by_xpath('//a[@class=\"_1LKTO3\"]')  \n",
    "    next_pg.click()"
   ]
  },
  {
   "cell_type": "code",
   "execution_count": 185,
   "id": "337db738",
   "metadata": {},
   "outputs": [
    {
     "data": {
      "text/plain": [
       "10"
      ]
     },
     "execution_count": 185,
     "metadata": {},
     "output_type": "execute_result"
    }
   ],
   "source": [
    "rating = driver.find_elements_by_xpath('//div[@class=\"_3LWZlK _1BLPMq\"]')\n",
    "\n",
    "rating9 = []\n",
    "\n",
    "for i in rating:\n",
    "    rating9.append(i.text)\n",
    "\n",
    "len(rating9)"
   ]
  },
  {
   "cell_type": "code",
   "execution_count": 176,
   "id": "11a3b043",
   "metadata": {},
   "outputs": [
    {
     "data": {
      "text/plain": [
       "10"
      ]
     },
     "execution_count": 176,
     "metadata": {},
     "output_type": "execute_result"
    }
   ],
   "source": [
    "review = driver.find_elements_by_xpath('//p[@class=\"_2-N8zT\"]')\n",
    "\n",
    "summary9 = []\n",
    "\n",
    "for i in review:\n",
    "    summary9.append(i.text)\n",
    "    \n",
    "len(summary9)"
   ]
  },
  {
   "cell_type": "code",
   "execution_count": 177,
   "id": "9c0a327a",
   "metadata": {},
   "outputs": [
    {
     "data": {
      "text/plain": [
       "10"
      ]
     },
     "execution_count": 177,
     "metadata": {},
     "output_type": "execute_result"
    }
   ],
   "source": [
    "fullr = driver.find_elements_by_xpath('//div[@class=\"t-ZTKy\"]')\n",
    "\n",
    "Fullr9 = []\n",
    "\n",
    "for i in fullr:\n",
    "    Fullr9.append(i.text)\n",
    "    \n",
    "len(Fullr9)"
   ]
  },
  {
   "cell_type": "code",
   "execution_count": 178,
   "id": "4bdc24b1",
   "metadata": {},
   "outputs": [],
   "source": [
    "# Moving to page10 data:\n",
    "try:\n",
    "    next_pg = driver.find_element_by_xpath('//a[@class=\"_1LKTO3\"][2]') #for next page using indexing\n",
    "    next_pg.click()\n",
    "except:\n",
    "    next_pg = driver.find_element_by_xpath('//a[@class=\"_1LKTO3\"]')  \n",
    "    next_pg.click()"
   ]
  },
  {
   "cell_type": "code",
   "execution_count": 179,
   "id": "3c6c1ac1",
   "metadata": {},
   "outputs": [
    {
     "data": {
      "text/plain": [
       "10"
      ]
     },
     "execution_count": 179,
     "metadata": {},
     "output_type": "execute_result"
    }
   ],
   "source": [
    "rating = driver.find_elements_by_xpath('//div[@class=\"_3LWZlK _1BLPMq\"]')\n",
    "\n",
    "rating10 = []\n",
    "\n",
    "for i in rating:\n",
    "    rating10.append(i.text)\n",
    "    \n",
    "len(rating10)"
   ]
  },
  {
   "cell_type": "code",
   "execution_count": 180,
   "id": "d5ac2070",
   "metadata": {},
   "outputs": [
    {
     "data": {
      "text/plain": [
       "10"
      ]
     },
     "execution_count": 180,
     "metadata": {},
     "output_type": "execute_result"
    }
   ],
   "source": [
    "review = driver.find_elements_by_xpath('//p[@class=\"_2-N8zT\"]')\n",
    "\n",
    "summary10 = []\n",
    "\n",
    "for i in review:\n",
    "    summary10.append(i.text)\n",
    "    \n",
    "len(summary10)"
   ]
  },
  {
   "cell_type": "code",
   "execution_count": 181,
   "id": "73cffc26",
   "metadata": {},
   "outputs": [
    {
     "data": {
      "text/plain": [
       "10"
      ]
     },
     "execution_count": 181,
     "metadata": {},
     "output_type": "execute_result"
    }
   ],
   "source": [
    "fullr = driver.find_elements_by_xpath('//div[@class=\"t-ZTKy\"]')\n",
    "\n",
    "Fullr10 = []\n",
    "\n",
    "for i in fullr:\n",
    "    Fullr10.append(i.text)\n",
    "    \n",
    "len(Fullr10)"
   ]
  },
  {
   "cell_type": "code",
   "execution_count": 187,
   "id": "0368cee4",
   "metadata": {},
   "outputs": [
    {
     "data": {
      "text/plain": [
       "100"
      ]
     },
     "execution_count": 187,
     "metadata": {},
     "output_type": "execute_result"
    }
   ],
   "source": [
    "# Adding All Lists together:\n",
    "Rating = rating1 + rating2 + rating3+ rating4 + rating5 + rating6 + rating7 + rating8 + rating9 + rating10\n",
    "len(Rating)"
   ]
  },
  {
   "cell_type": "code",
   "execution_count": 183,
   "id": "727d05f6",
   "metadata": {},
   "outputs": [
    {
     "data": {
      "text/plain": [
       "100"
      ]
     },
     "execution_count": 183,
     "metadata": {},
     "output_type": "execute_result"
    }
   ],
   "source": [
    "Review = summary1 + summary2 + summary3 + summary4 + summary5 + summary6 + summary7 + summary8 + summary9 + summary10\n",
    "len(Review)"
   ]
  },
  {
   "cell_type": "code",
   "execution_count": 184,
   "id": "1fb8d038",
   "metadata": {},
   "outputs": [
    {
     "data": {
      "text/plain": [
       "100"
      ]
     },
     "execution_count": 184,
     "metadata": {},
     "output_type": "execute_result"
    }
   ],
   "source": [
    "\n",
    "Full_Review = Fullr1 + Fullr2 + Fullr3 + Fullr4 + Fullr5 + Fullr6 + Fullr7 + Fullr8 + Fullr9 + Fullr10\n",
    "len(Full_Review)"
   ]
  },
  {
   "cell_type": "code",
   "execution_count": 188,
   "id": "29c00a4d",
   "metadata": {},
   "outputs": [
    {
     "data": {
      "text/html": [
       "<div>\n",
       "<style scoped>\n",
       "    .dataframe tbody tr th:only-of-type {\n",
       "        vertical-align: middle;\n",
       "    }\n",
       "\n",
       "    .dataframe tbody tr th {\n",
       "        vertical-align: top;\n",
       "    }\n",
       "\n",
       "    .dataframe thead th {\n",
       "        text-align: right;\n",
       "    }\n",
       "</style>\n",
       "<table border=\"1\" class=\"dataframe\">\n",
       "  <thead>\n",
       "    <tr style=\"text-align: right;\">\n",
       "      <th></th>\n",
       "      <th>Ratings</th>\n",
       "      <th>Review summary</th>\n",
       "      <th>Review Description</th>\n",
       "    </tr>\n",
       "  </thead>\n",
       "  <tbody>\n",
       "    <tr>\n",
       "      <th>0</th>\n",
       "      <td>5</td>\n",
       "      <td>Simply awesome</td>\n",
       "      <td>Really satisfied with the Product I received.....</td>\n",
       "    </tr>\n",
       "    <tr>\n",
       "      <th>1</th>\n",
       "      <td>5</td>\n",
       "      <td>Best in the market!</td>\n",
       "      <td>Great iPhone very snappy experience as apple k...</td>\n",
       "    </tr>\n",
       "    <tr>\n",
       "      <th>2</th>\n",
       "      <td>5</td>\n",
       "      <td>Perfect product!</td>\n",
       "      <td>Amazing phone with great cameras and better ba...</td>\n",
       "    </tr>\n",
       "    <tr>\n",
       "      <th>3</th>\n",
       "      <td>5</td>\n",
       "      <td>Worth every penny</td>\n",
       "      <td>Previously I was using one plus 3t it was a gr...</td>\n",
       "    </tr>\n",
       "    <tr>\n",
       "      <th>4</th>\n",
       "      <td>5</td>\n",
       "      <td>Highly recommended</td>\n",
       "      <td>What a camera .....just awesome ..you can feel...</td>\n",
       "    </tr>\n",
       "    <tr>\n",
       "      <th>...</th>\n",
       "      <td>...</td>\n",
       "      <td>...</td>\n",
       "      <td>...</td>\n",
       "    </tr>\n",
       "    <tr>\n",
       "      <th>95</th>\n",
       "      <td>5</td>\n",
       "      <td>Worth every penny</td>\n",
       "      <td>It is better to buy iPhone 11 over iPhone 12 i...</td>\n",
       "    </tr>\n",
       "    <tr>\n",
       "      <th>96</th>\n",
       "      <td>5</td>\n",
       "      <td>Super!</td>\n",
       "      <td>This is my first ever iPhone.\\nAnd I truly don...</td>\n",
       "    </tr>\n",
       "    <tr>\n",
       "      <th>97</th>\n",
       "      <td>5</td>\n",
       "      <td>Worth every penny</td>\n",
       "      <td>Undoubtedly Iphone 11 is the most successful m...</td>\n",
       "    </tr>\n",
       "    <tr>\n",
       "      <th>98</th>\n",
       "      <td>5</td>\n",
       "      <td>Best in the market!</td>\n",
       "      <td>Don’t expect much from front camera… especiall...</td>\n",
       "    </tr>\n",
       "    <tr>\n",
       "      <th>99</th>\n",
       "      <td>5</td>\n",
       "      <td>Wonderful</td>\n",
       "      <td>Nice value for money good and best price I pho...</td>\n",
       "    </tr>\n",
       "  </tbody>\n",
       "</table>\n",
       "<p>100 rows × 3 columns</p>\n",
       "</div>"
      ],
      "text/plain": [
       "   Ratings       Review summary  \\\n",
       "0        5       Simply awesome   \n",
       "1        5  Best in the market!   \n",
       "2        5     Perfect product!   \n",
       "3        5    Worth every penny   \n",
       "4        5   Highly recommended   \n",
       "..     ...                  ...   \n",
       "95       5    Worth every penny   \n",
       "96       5               Super!   \n",
       "97       5    Worth every penny   \n",
       "98       5  Best in the market!   \n",
       "99       5            Wonderful   \n",
       "\n",
       "                                   Review Description  \n",
       "0   Really satisfied with the Product I received.....  \n",
       "1   Great iPhone very snappy experience as apple k...  \n",
       "2   Amazing phone with great cameras and better ba...  \n",
       "3   Previously I was using one plus 3t it was a gr...  \n",
       "4   What a camera .....just awesome ..you can feel...  \n",
       "..                                                ...  \n",
       "95  It is better to buy iPhone 11 over iPhone 12 i...  \n",
       "96  This is my first ever iPhone.\\nAnd I truly don...  \n",
       "97  Undoubtedly Iphone 11 is the most successful m...  \n",
       "98  Don’t expect much from front camera… especiall...  \n",
       "99  Nice value for money good and best price I pho...  \n",
       "\n",
       "[100 rows x 3 columns]"
      ]
     },
     "execution_count": 188,
     "metadata": {},
     "output_type": "execute_result"
    }
   ],
   "source": [
    "# Making DataFrame\n",
    "import pandas as pd\n",
    "iphone = pd.DataFrame({'Ratings':Rating, 'Review summary':Review, 'Review Description':Full_Review})\n",
    "iphone"
   ]
  },
  {
   "cell_type": "markdown",
   "id": "6e1eb977",
   "metadata": {},
   "source": [
    "Question.6"
   ]
  },
  {
   "cell_type": "code",
   "execution_count": 189,
   "id": "4b1448b4",
   "metadata": {},
   "outputs": [],
   "source": [
    "url = 'https://www.flipkart.com/'\n",
    "driver.get(url)"
   ]
  },
  {
   "cell_type": "code",
   "execution_count": 190,
   "id": "ca3bf797",
   "metadata": {},
   "outputs": [],
   "source": [
    "search_product = driver.find_element_by_xpath('//input[@class=\"_3704LK\"]')\n",
    "search_product.send_keys('Sneakers')"
   ]
  },
  {
   "cell_type": "code",
   "execution_count": 193,
   "id": "c842c314",
   "metadata": {},
   "outputs": [],
   "source": [
    "search_click = driver.find_element_by_xpath('//button[@class=\"L0Z3Pu\"]')\n",
    "search_click.click()\n",
    "\n",
    "time.sleep(3)"
   ]
  },
  {
   "cell_type": "code",
   "execution_count": 194,
   "id": "03bf64ae",
   "metadata": {},
   "outputs": [
    {
     "data": {
      "text/plain": [
       "40"
      ]
     },
     "execution_count": 194,
     "metadata": {},
     "output_type": "execute_result"
    }
   ],
   "source": [
    "#Extracting Page1 data:\n",
    "brand = driver.find_elements_by_xpath('//div[@class=\"_2WkVRV\"]')[:40]\n",
    "\n",
    "brand_name1 = []\n",
    "\n",
    "for i in brand:\n",
    "    brand_name1.append(i.text)\n",
    "    \n",
    "len(brand_name1)"
   ]
  },
  {
   "cell_type": "code",
   "execution_count": 228,
   "id": "09535da3",
   "metadata": {},
   "outputs": [
    {
     "data": {
      "text/plain": [
       "35"
      ]
     },
     "execution_count": 228,
     "metadata": {},
     "output_type": "execute_result"
    }
   ],
   "source": [
    "pd = driver.find_elements_by_xpath('//a[@class=\"IRpwTa\"]')\n",
    "\n",
    "description1 = []\n",
    "\n",
    "for i in pd:\n",
    "    description1.append(i.text)\n",
    "   \n",
    "len(description1)"
   ]
  },
  {
   "cell_type": "code",
   "execution_count": 197,
   "id": "ed49e702",
   "metadata": {},
   "outputs": [
    {
     "data": {
      "text/plain": [
       "40"
      ]
     },
     "execution_count": 197,
     "metadata": {},
     "output_type": "execute_result"
    }
   ],
   "source": [
    "price = driver.find_elements_by_xpath('//div[@class=\"_30jeq3\"]')[:40]\n",
    "\n",
    "price1 = []\n",
    "\n",
    "for i in price:\n",
    "    price1.append(i.text)\n",
    "    \n",
    "len(price1)"
   ]
  },
  {
   "cell_type": "code",
   "execution_count": 198,
   "id": "3a4390b8",
   "metadata": {},
   "outputs": [
    {
     "data": {
      "text/plain": [
       "40"
      ]
     },
     "execution_count": 198,
     "metadata": {},
     "output_type": "execute_result"
    }
   ],
   "source": [
    "dis = driver.find_elements_by_xpath('//div[@class=\"_3Ay6Sb\"]')[:40]\n",
    "\n",
    "discount1 = []\n",
    "\n",
    "for i in dis:\n",
    "    discount1.append(i.text)\n",
    "    \n",
    "len(discount1)"
   ]
  },
  {
   "cell_type": "code",
   "execution_count": 199,
   "id": "6c9237da",
   "metadata": {},
   "outputs": [],
   "source": [
    "# Moving to Page2:\n",
    "try:\n",
    "    next_pg = driver.find_element_by_xpath('//a[@class=\"_1LKTO3\"][2]')\n",
    "    next_pg.click()\n",
    "except:\n",
    "    next_pg = driver.find_element_by_xpath('//a[@class=\"_1LKTO3\"]')  \n",
    "    next_pg.click()"
   ]
  },
  {
   "cell_type": "code",
   "execution_count": 232,
   "id": "2baa4296",
   "metadata": {},
   "outputs": [
    {
     "data": {
      "text/plain": [
       "32"
      ]
     },
     "execution_count": 232,
     "metadata": {},
     "output_type": "execute_result"
    }
   ],
   "source": [
    "brand = driver.find_elements_by_xpath('//div[@class=\"_2WkVRV\"]')[:32]\n",
    "\n",
    "brand_name2 = []\n",
    "\n",
    "for i in brand:\n",
    "    brand_name2.append(i.text)\n",
    "    \n",
    "len(brand_name2)"
   ]
  },
  {
   "cell_type": "code",
   "execution_count": 210,
   "id": "4424c828",
   "metadata": {},
   "outputs": [
    {
     "data": {
      "text/plain": [
       "37"
      ]
     },
     "execution_count": 210,
     "metadata": {},
     "output_type": "execute_result"
    }
   ],
   "source": [
    "pd = driver.find_elements_by_xpath('//a[@class=\"IRpwTa\"]')\n",
    "\n",
    "description2 = []\n",
    "\n",
    "for i in pd:\n",
    "    description2.append(i.text)\n",
    "    \n",
    "len(description2)"
   ]
  },
  {
   "cell_type": "code",
   "execution_count": 231,
   "id": "7537b0c9",
   "metadata": {},
   "outputs": [
    {
     "data": {
      "text/plain": [
       "32"
      ]
     },
     "execution_count": 231,
     "metadata": {},
     "output_type": "execute_result"
    }
   ],
   "source": [
    "price = driver.find_elements_by_xpath('//div[@class=\"_30jeq3\"]')[:32]\n",
    "\n",
    "price2 = []\n",
    "\n",
    "for i in price:\n",
    "    price2.append(i.text)\n",
    "    \n",
    "len(price2)"
   ]
  },
  {
   "cell_type": "code",
   "execution_count": 230,
   "id": "eaacdced",
   "metadata": {},
   "outputs": [
    {
     "data": {
      "text/plain": [
       "32"
      ]
     },
     "execution_count": 230,
     "metadata": {},
     "output_type": "execute_result"
    }
   ],
   "source": [
    "dis = driver.find_elements_by_xpath('//div[@class=\"_3Ay6Sb\"]')[:32]\n",
    "\n",
    "discount2 = []\n",
    "for i in dis:\n",
    "    discount2.append(i.text)\n",
    "    \n",
    "len(discount2)"
   ]
  },
  {
   "cell_type": "code",
   "execution_count": 211,
   "id": "6b19d5d5",
   "metadata": {},
   "outputs": [],
   "source": [
    "# Moving to Page3:\n",
    "try:\n",
    "    next_pg = driver.find_element_by_xpath('//a[@class=\"_1LKTO3\"][2]') #for next page using indexing\n",
    "    next_pg.click()\n",
    "except:\n",
    "    next_pg = driver.find_element_by_xpath('//a[@class=\"_1LKTO3\"]')  \n",
    "    next_pg.click()"
   ]
  },
  {
   "cell_type": "code",
   "execution_count": 212,
   "id": "b2cfadd6",
   "metadata": {},
   "outputs": [
    {
     "data": {
      "text/plain": [
       "20"
      ]
     },
     "execution_count": 212,
     "metadata": {},
     "output_type": "execute_result"
    }
   ],
   "source": [
    "brand = driver.find_elements_by_xpath('//div[@class=\"_2WkVRV\"]')[:20]\n",
    "\n",
    "brand_name3 = []\n",
    "\n",
    "for i in brand:\n",
    "    brand_name3.append(i.text)\n",
    "    \n",
    "len(brand_name3)"
   ]
  },
  {
   "cell_type": "code",
   "execution_count": 213,
   "id": "765754d4",
   "metadata": {},
   "outputs": [
    {
     "data": {
      "text/plain": [
       "20"
      ]
     },
     "execution_count": 213,
     "metadata": {},
     "output_type": "execute_result"
    }
   ],
   "source": [
    "pd = driver.find_elements_by_xpath('//a[@class=\"IRpwTa\"]')[:20]\n",
    "\n",
    "description3 = []\n",
    "\n",
    "for i in pd:\n",
    "    description3.append(i.text)\n",
    "    \n",
    "len(description3)"
   ]
  },
  {
   "cell_type": "code",
   "execution_count": 214,
   "id": "8e71bdec",
   "metadata": {},
   "outputs": [
    {
     "data": {
      "text/plain": [
       "20"
      ]
     },
     "execution_count": 214,
     "metadata": {},
     "output_type": "execute_result"
    }
   ],
   "source": [
    "price = driver.find_elements_by_xpath('//div[@class=\"_30jeq3\"]')[:20]\n",
    "\n",
    "price3 = []\n",
    "\n",
    "for i in price:\n",
    "    price3.append(i.text)\n",
    "    \n",
    "len(price3)"
   ]
  },
  {
   "cell_type": "code",
   "execution_count": 216,
   "id": "0cb48984",
   "metadata": {},
   "outputs": [
    {
     "data": {
      "text/plain": [
       "20"
      ]
     },
     "execution_count": 216,
     "metadata": {},
     "output_type": "execute_result"
    }
   ],
   "source": [
    "dis = driver.find_elements_by_xpath('//div[@class=\"_3Ay6Sb\"]')[:20]\n",
    "\n",
    "discount3 = []\n",
    "\n",
    "for i in dis:\n",
    "    discount3.append(i.text)\n",
    "    \n",
    "len(discount3)"
   ]
  },
  {
   "cell_type": "code",
   "execution_count": 233,
   "id": "ba1fa9da",
   "metadata": {},
   "outputs": [
    {
     "data": {
      "text/plain": [
       "92"
      ]
     },
     "execution_count": 233,
     "metadata": {},
     "output_type": "execute_result"
    }
   ],
   "source": [
    "brand_name = brand_name1 + brand_name2 + brand_name3\n",
    "len(brand_name)"
   ]
  },
  {
   "cell_type": "code",
   "execution_count": 229,
   "id": "92ba0038",
   "metadata": {},
   "outputs": [
    {
     "data": {
      "text/plain": [
       "92"
      ]
     },
     "execution_count": 229,
     "metadata": {},
     "output_type": "execute_result"
    }
   ],
   "source": [
    "description = description1 + description2 + description3\n",
    "len(description)"
   ]
  },
  {
   "cell_type": "code",
   "execution_count": 234,
   "id": "0bbc7879",
   "metadata": {},
   "outputs": [
    {
     "data": {
      "text/plain": [
       "92"
      ]
     },
     "execution_count": 234,
     "metadata": {},
     "output_type": "execute_result"
    }
   ],
   "source": [
    "prices = price1 + price2 + price3\n",
    "len(prices)"
   ]
  },
  {
   "cell_type": "code",
   "execution_count": 235,
   "id": "24ac5e1a",
   "metadata": {},
   "outputs": [
    {
     "data": {
      "text/plain": [
       "92"
      ]
     },
     "execution_count": 235,
     "metadata": {},
     "output_type": "execute_result"
    }
   ],
   "source": [
    "discount = discount1 + discount2 + discount3\n",
    "len(discount)"
   ]
  },
  {
   "cell_type": "code",
   "execution_count": 236,
   "id": "b9b3ec1f",
   "metadata": {},
   "outputs": [
    {
     "data": {
      "text/html": [
       "<div>\n",
       "<style scoped>\n",
       "    .dataframe tbody tr th:only-of-type {\n",
       "        vertical-align: middle;\n",
       "    }\n",
       "\n",
       "    .dataframe tbody tr th {\n",
       "        vertical-align: top;\n",
       "    }\n",
       "\n",
       "    .dataframe thead th {\n",
       "        text-align: right;\n",
       "    }\n",
       "</style>\n",
       "<table border=\"1\" class=\"dataframe\">\n",
       "  <thead>\n",
       "    <tr style=\"text-align: right;\">\n",
       "      <th></th>\n",
       "      <th>Brand Name</th>\n",
       "      <th>Price</th>\n",
       "      <th>Discount</th>\n",
       "    </tr>\n",
       "  </thead>\n",
       "  <tbody>\n",
       "    <tr>\n",
       "      <th>0</th>\n",
       "      <td>Layasa</td>\n",
       "      <td>₹399</td>\n",
       "      <td>60% off</td>\n",
       "    </tr>\n",
       "    <tr>\n",
       "      <th>1</th>\n",
       "      <td>BIRDE</td>\n",
       "      <td>₹299</td>\n",
       "      <td>70% off</td>\n",
       "    </tr>\n",
       "    <tr>\n",
       "      <th>2</th>\n",
       "      <td>Magnolia</td>\n",
       "      <td>₹374</td>\n",
       "      <td>62% off</td>\n",
       "    </tr>\n",
       "    <tr>\n",
       "      <th>3</th>\n",
       "      <td>Robbie jones</td>\n",
       "      <td>₹399</td>\n",
       "      <td>60% off</td>\n",
       "    </tr>\n",
       "    <tr>\n",
       "      <th>4</th>\n",
       "      <td>BRUTON</td>\n",
       "      <td>₹283</td>\n",
       "      <td>78% off</td>\n",
       "    </tr>\n",
       "    <tr>\n",
       "      <th>...</th>\n",
       "      <td>...</td>\n",
       "      <td>...</td>\n",
       "      <td>...</td>\n",
       "    </tr>\n",
       "    <tr>\n",
       "      <th>87</th>\n",
       "      <td>BIRDE</td>\n",
       "      <td>₹356</td>\n",
       "      <td>64% off</td>\n",
       "    </tr>\n",
       "    <tr>\n",
       "      <th>88</th>\n",
       "      <td>ADIDAS</td>\n",
       "      <td>₹1,440</td>\n",
       "      <td>68% off</td>\n",
       "    </tr>\n",
       "    <tr>\n",
       "      <th>89</th>\n",
       "      <td>Rising Wolf</td>\n",
       "      <td>₹458</td>\n",
       "      <td>77% off</td>\n",
       "    </tr>\n",
       "    <tr>\n",
       "      <th>90</th>\n",
       "      <td>WROGN</td>\n",
       "      <td>₹991</td>\n",
       "      <td>68% off</td>\n",
       "    </tr>\n",
       "    <tr>\n",
       "      <th>91</th>\n",
       "      <td>FILA</td>\n",
       "      <td>₹919</td>\n",
       "      <td>58% off</td>\n",
       "    </tr>\n",
       "  </tbody>\n",
       "</table>\n",
       "<p>92 rows × 3 columns</p>\n",
       "</div>"
      ],
      "text/plain": [
       "      Brand Name   Price Discount\n",
       "0         Layasa    ₹399  60% off\n",
       "1          BIRDE    ₹299  70% off\n",
       "2       Magnolia    ₹374  62% off\n",
       "3   Robbie jones    ₹399  60% off\n",
       "4         BRUTON    ₹283  78% off\n",
       "..           ...     ...      ...\n",
       "87         BIRDE    ₹356  64% off\n",
       "88        ADIDAS  ₹1,440  68% off\n",
       "89   Rising Wolf    ₹458  77% off\n",
       "90         WROGN    ₹991  68% off\n",
       "91          FILA    ₹919  58% off\n",
       "\n",
       "[92 rows x 3 columns]"
      ]
     },
     "execution_count": 236,
     "metadata": {},
     "output_type": "execute_result"
    }
   ],
   "source": [
    "import pandas as pd\n",
    "# Making DataFrame\n",
    "df = pd.DataFrame({'Brand Name':brand_name, 'Price':prices, 'Discount':discount})\n",
    "df"
   ]
  },
  {
   "cell_type": "markdown",
   "id": "95d4bc1f",
   "metadata": {},
   "source": [
    "Question:7"
   ]
  },
  {
   "cell_type": "code",
   "execution_count": 237,
   "id": "91983fa5",
   "metadata": {},
   "outputs": [],
   "source": [
    "url = 'https://www.myntra.com/shoes'\n",
    "driver.get(url)"
   ]
  },
  {
   "cell_type": "code",
   "execution_count": 238,
   "id": "c958a0d4",
   "metadata": {},
   "outputs": [],
   "source": [
    "#Setting Price Filter\n",
    "price_filter = driver.find_element_by_xpath('//ul[@class=\"price-list\"]//li[2]')\n",
    "price_filter.click()"
   ]
  },
  {
   "cell_type": "code",
   "execution_count": 239,
   "id": "3871f892",
   "metadata": {},
   "outputs": [],
   "source": [
    "#Setting Color Filter\n",
    "color_filter = driver.find_element_by_xpath('//li[@class=\"colour-listItem\"]//span[2]')\n",
    "color_filter.click()"
   ]
  },
  {
   "cell_type": "code",
   "execution_count": 240,
   "id": "df28a3c4",
   "metadata": {},
   "outputs": [
    {
     "data": {
      "text/plain": [
       "50"
      ]
     },
     "execution_count": 240,
     "metadata": {},
     "output_type": "execute_result"
    }
   ],
   "source": [
    "# Extracting Page1 data:\n",
    "brand = driver.find_elements_by_xpath('//h3[@class=\"product-brand\"]')\n",
    "\n",
    "brand_name = []\n",
    "\n",
    "for i in brand:\n",
    "    brand_name.append(i.text)\n",
    "    \n",
    "len(brand_name)"
   ]
  },
  {
   "cell_type": "code",
   "execution_count": 241,
   "id": "798a835f",
   "metadata": {},
   "outputs": [
    {
     "data": {
      "text/plain": [
       "50"
      ]
     },
     "execution_count": 241,
     "metadata": {},
     "output_type": "execute_result"
    }
   ],
   "source": [
    "desc = driver.find_elements_by_xpath('//h4[@class=\"product-product\"]')\n",
    "\n",
    "description = []\n",
    "\n",
    "for i in desc:\n",
    "    description.append(i.text)\n",
    "    \n",
    "len(description)"
   ]
  },
  {
   "cell_type": "code",
   "execution_count": 242,
   "id": "e48816a9",
   "metadata": {},
   "outputs": [
    {
     "data": {
      "text/plain": [
       "50"
      ]
     },
     "execution_count": 242,
     "metadata": {},
     "output_type": "execute_result"
    }
   ],
   "source": [
    "price = driver.find_elements_by_xpath('//div[@class=\"product-price\"]')\n",
    "\n",
    "prices = []\n",
    "\n",
    "for i in price:\n",
    "    prices.append(i.text)\n",
    "    \n",
    "len(prices)"
   ]
  },
  {
   "cell_type": "code",
   "execution_count": 243,
   "id": "b1de18e7",
   "metadata": {},
   "outputs": [],
   "source": [
    "# Moving to Page2:\n",
    "next_page = driver.find_element_by_xpath('//li[@class=\"pagination-next\"]')\n",
    "next_page.click()"
   ]
  },
  {
   "cell_type": "code",
   "execution_count": 244,
   "id": "16963f4a",
   "metadata": {},
   "outputs": [
    {
     "data": {
      "text/plain": [
       "50"
      ]
     },
     "execution_count": 244,
     "metadata": {},
     "output_type": "execute_result"
    }
   ],
   "source": [
    "brand = driver.find_elements_by_xpath('//h3[@class=\"product-brand\"]')\n",
    "\n",
    "brand_name1 = []\n",
    "\n",
    "for i in brand:\n",
    "    brand_name1.append(i.text)\n",
    "    \n",
    "len(brand_name1)"
   ]
  },
  {
   "cell_type": "code",
   "execution_count": 245,
   "id": "9fc8ecdd",
   "metadata": {},
   "outputs": [
    {
     "data": {
      "text/plain": [
       "50"
      ]
     },
     "execution_count": 245,
     "metadata": {},
     "output_type": "execute_result"
    }
   ],
   "source": [
    "desc = driver.find_elements_by_xpath('//h4[@class=\"product-product\"]')\n",
    "\n",
    "description1 = []\n",
    "\n",
    "for i in desc:\n",
    "    description1.append(i.text)\n",
    "    \n",
    "len(description1)"
   ]
  },
  {
   "cell_type": "code",
   "execution_count": 246,
   "id": "8ab03b7f",
   "metadata": {},
   "outputs": [
    {
     "data": {
      "text/plain": [
       "50"
      ]
     },
     "execution_count": 246,
     "metadata": {},
     "output_type": "execute_result"
    }
   ],
   "source": [
    "price = driver.find_elements_by_xpath('//div[@class=\"product-price\"]')\n",
    "\n",
    "prices1 = []\n",
    "\n",
    "for i in price:\n",
    "    prices1.append(i.text)\n",
    "    \n",
    "len(prices1)"
   ]
  },
  {
   "cell_type": "code",
   "execution_count": 247,
   "id": "6a5c7875",
   "metadata": {},
   "outputs": [
    {
     "data": {
      "text/plain": [
       "100"
      ]
     },
     "execution_count": 247,
     "metadata": {},
     "output_type": "execute_result"
    }
   ],
   "source": [
    "Brand = brand_name + brand_name1\n",
    "len(Brand)"
   ]
  },
  {
   "cell_type": "code",
   "execution_count": 248,
   "id": "892844aa",
   "metadata": {},
   "outputs": [
    {
     "data": {
      "text/plain": [
       "100"
      ]
     },
     "execution_count": 248,
     "metadata": {},
     "output_type": "execute_result"
    }
   ],
   "source": [
    "Description = description + description1\n",
    "len(Description)"
   ]
  },
  {
   "cell_type": "code",
   "execution_count": 249,
   "id": "83e19cff",
   "metadata": {},
   "outputs": [
    {
     "data": {
      "text/plain": [
       "100"
      ]
     },
     "execution_count": 249,
     "metadata": {},
     "output_type": "execute_result"
    }
   ],
   "source": [
    "Price = prices + prices1\n",
    "len(Price)"
   ]
  },
  {
   "cell_type": "code",
   "execution_count": 250,
   "id": "c68df438",
   "metadata": {},
   "outputs": [
    {
     "data": {
      "text/html": [
       "<div>\n",
       "<style scoped>\n",
       "    .dataframe tbody tr th:only-of-type {\n",
       "        vertical-align: middle;\n",
       "    }\n",
       "\n",
       "    .dataframe tbody tr th {\n",
       "        vertical-align: top;\n",
       "    }\n",
       "\n",
       "    .dataframe thead th {\n",
       "        text-align: right;\n",
       "    }\n",
       "</style>\n",
       "<table border=\"1\" class=\"dataframe\">\n",
       "  <thead>\n",
       "    <tr style=\"text-align: right;\">\n",
       "      <th></th>\n",
       "      <th>Brand</th>\n",
       "      <th>Description</th>\n",
       "      <th>Prices</th>\n",
       "    </tr>\n",
       "  </thead>\n",
       "  <tbody>\n",
       "    <tr>\n",
       "      <th>0</th>\n",
       "      <td>UNDER ARMOUR</td>\n",
       "      <td>Men UA Charged Breeze Training</td>\n",
       "      <td>Rs. 8999</td>\n",
       "    </tr>\n",
       "    <tr>\n",
       "      <th>1</th>\n",
       "      <td>Nike</td>\n",
       "      <td>Women Pegasus 39 Running Shoes</td>\n",
       "      <td>Rs. 10495</td>\n",
       "    </tr>\n",
       "    <tr>\n",
       "      <th>2</th>\n",
       "      <td>Puma</td>\n",
       "      <td>Men Velocity Nitro 2 Running</td>\n",
       "      <td>Rs. 10999</td>\n",
       "    </tr>\n",
       "    <tr>\n",
       "      <th>3</th>\n",
       "      <td>UNDER ARMOUR</td>\n",
       "      <td>Men UA Charged Vantage 2 Run</td>\n",
       "      <td>Rs. 7999</td>\n",
       "    </tr>\n",
       "    <tr>\n",
       "      <th>4</th>\n",
       "      <td>UNDER ARMOUR</td>\n",
       "      <td>Men Charged Rouge 3 Run Shoes</td>\n",
       "      <td>Rs. 7999</td>\n",
       "    </tr>\n",
       "    <tr>\n",
       "      <th>...</th>\n",
       "      <td>...</td>\n",
       "      <td>...</td>\n",
       "      <td>...</td>\n",
       "    </tr>\n",
       "    <tr>\n",
       "      <th>95</th>\n",
       "      <td>J.FONTINI</td>\n",
       "      <td>Men Textured Leather Loafers</td>\n",
       "      <td>Rs. 7990</td>\n",
       "    </tr>\n",
       "    <tr>\n",
       "      <th>96</th>\n",
       "      <td>Geox</td>\n",
       "      <td>Men Leather Formal Slip-Ons</td>\n",
       "      <td>Rs. 8991Rs. 9990(10% OFF)</td>\n",
       "    </tr>\n",
       "    <tr>\n",
       "      <th>97</th>\n",
       "      <td>Clarks</td>\n",
       "      <td>Men Solid Formal Leather Derbys</td>\n",
       "      <td>Rs. 9999</td>\n",
       "    </tr>\n",
       "    <tr>\n",
       "      <th>98</th>\n",
       "      <td>J.FONTINI</td>\n",
       "      <td>Men Solid Loafers</td>\n",
       "      <td>Rs. 8990</td>\n",
       "    </tr>\n",
       "    <tr>\n",
       "      <th>99</th>\n",
       "      <td>Heel &amp; Buckle London</td>\n",
       "      <td>Men Formal Leather Derby</td>\n",
       "      <td>Rs. 7990</td>\n",
       "    </tr>\n",
       "  </tbody>\n",
       "</table>\n",
       "<p>100 rows × 3 columns</p>\n",
       "</div>"
      ],
      "text/plain": [
       "                   Brand                      Description  \\\n",
       "0           UNDER ARMOUR   Men UA Charged Breeze Training   \n",
       "1                   Nike   Women Pegasus 39 Running Shoes   \n",
       "2                   Puma     Men Velocity Nitro 2 Running   \n",
       "3           UNDER ARMOUR     Men UA Charged Vantage 2 Run   \n",
       "4           UNDER ARMOUR    Men Charged Rouge 3 Run Shoes   \n",
       "..                   ...                              ...   \n",
       "95             J.FONTINI     Men Textured Leather Loafers   \n",
       "96                  Geox      Men Leather Formal Slip-Ons   \n",
       "97                Clarks  Men Solid Formal Leather Derbys   \n",
       "98             J.FONTINI                Men Solid Loafers   \n",
       "99  Heel & Buckle London         Men Formal Leather Derby   \n",
       "\n",
       "                       Prices  \n",
       "0                    Rs. 8999  \n",
       "1                   Rs. 10495  \n",
       "2                   Rs. 10999  \n",
       "3                    Rs. 7999  \n",
       "4                    Rs. 7999  \n",
       "..                        ...  \n",
       "95                   Rs. 7990  \n",
       "96  Rs. 8991Rs. 9990(10% OFF)  \n",
       "97                   Rs. 9999  \n",
       "98                   Rs. 8990  \n",
       "99                   Rs. 7990  \n",
       "\n",
       "[100 rows x 3 columns]"
      ]
     },
     "execution_count": 250,
     "metadata": {},
     "output_type": "execute_result"
    }
   ],
   "source": [
    "import pandas as pd\n",
    "Shoes = pd.DataFrame({'Brand' : Brand, 'Description' : Description, 'Prices' : Price})\n",
    "Shoes"
   ]
  },
  {
   "cell_type": "markdown",
   "id": "b62ec748",
   "metadata": {},
   "source": [
    "Question: 8"
   ]
  },
  {
   "cell_type": "code",
   "execution_count": 294,
   "id": "e1228916",
   "metadata": {},
   "outputs": [],
   "source": [
    "url = 'https://www.amazon.in/'\n",
    "driver.get(url)"
   ]
  },
  {
   "cell_type": "code",
   "execution_count": 295,
   "id": "65e48323",
   "metadata": {},
   "outputs": [],
   "source": [
    "search_bar = driver.find_element_by_id(\"twotabsearchtextbox\")\n",
    "search_bar.send_keys('Laptop')"
   ]
  },
  {
   "cell_type": "code",
   "execution_count": 296,
   "id": "4a748f53",
   "metadata": {},
   "outputs": [],
   "source": [
    "search_button = driver.find_element_by_id(\"nav-search-submit-button\")\n",
    "search_button.click()\n",
    "\n",
    "time.sleep(3)"
   ]
  },
  {
   "cell_type": "code",
   "execution_count": 297,
   "id": "ee374676",
   "metadata": {},
   "outputs": [],
   "source": [
    "filter1 = driver.find_element_by_xpath('/html/body/div[1]/div[2]/div[1]/div[2]/div/div[3]/span/div[1]/div/div/div[6]/ul[4]/li[14]/span/a/span')\n",
    "\n",
    "filter1.click()"
   ]
  },
  {
   "cell_type": "code",
   "execution_count": 298,
   "id": "886234e7",
   "metadata": {},
   "outputs": [
    {
     "data": {
      "text/plain": [
       "10"
      ]
     },
     "execution_count": 298,
     "metadata": {},
     "output_type": "execute_result"
    }
   ],
   "source": [
    "title = driver.find_elements_by_xpath('//span[@class=\"a-size-medium a-color-base a-text-normal\"]')[:10]\n",
    "\n",
    "Title = []\n",
    "\n",
    "for i in title:\n",
    "    Title.append(i.text)\n",
    "    \n",
    "len(Title)"
   ]
  },
  {
   "cell_type": "code",
   "execution_count": 299,
   "id": "9d5a4fb4",
   "metadata": {},
   "outputs": [
    {
     "data": {
      "text/plain": [
       "10"
      ]
     },
     "execution_count": 299,
     "metadata": {},
     "output_type": "execute_result"
    }
   ],
   "source": [
    "price = driver.find_elements_by_xpath('//span[@class=\"a-price-whole\"]')[:10]\n",
    "\n",
    "Price = []\n",
    "\n",
    "for i in price:\n",
    "    Price.append(i.text)\n",
    "    \n",
    "len(Price)"
   ]
  },
  {
   "cell_type": "code",
   "execution_count": 300,
   "id": "aaf90506",
   "metadata": {},
   "outputs": [
    {
     "data": {
      "text/plain": [
       "['https://www.amazon.in/Acer-Predator-Graphics-Keyboard-PH517-52/dp/B09W99QWTD/ref=sr_1_1?crid=1YHAKQL3066XT&keywords=Laptop&qid=1655311599&refinements=p_n_feature_thirteen_browse-bin%3A16757432031&rnid=12598141031&s=computers&sprefix=laptop%2Caps%2C575&sr=1-1',\n",
       " 'https://www.amazon.in/ASUS-i9-12900H-Graphics-Gaming-G533ZW-LN136WS/dp/B09X5ND3MF/ref=sr_1_2?crid=1YHAKQL3066XT&keywords=Laptop&qid=1655311599&refinements=p_n_feature_thirteen_browse-bin%3A16757432031&rnid=12598141031&s=computers&sprefix=laptop%2Caps%2C575&sr=1-2',\n",
       " 'https://www.amazon.in/15-6inch-i9-10885H-Graphics-Warranty-D560233WIN9B/dp/B08HYPJDLD/ref=sr_1_3?crid=1YHAKQL3066XT&keywords=Laptop&qid=1655311599&refinements=p_n_feature_thirteen_browse-bin%3A16757432031&rnid=12598141031&s=computers&sprefix=laptop%2Caps%2C575&sr=1-3',\n",
       " 'https://www.amazon.in/ASUS-Zephyrus-i9-11900H-RTX-3080-GX703HS-KF058TS/dp/B09LVPJV2Z/ref=sr_1_4?crid=1YHAKQL3066XT&keywords=Laptop&qid=1655311599&refinements=p_n_feature_thirteen_browse-bin%3A16757432031&rnid=12598141031&s=computers&sprefix=laptop%2Caps%2C575&sr=1-4',\n",
       " 'https://www.amazon.in/Acer-Predator-i9-11900H-39-62cms-PH315-54/dp/B09STHPNT9/ref=sr_1_5?crid=1YHAKQL3066XT&keywords=Laptop&qid=1655311599&refinements=p_n_feature_thirteen_browse-bin%3A16757432031&rnid=12598141031&s=computers&sprefix=laptop%2Caps%2C575&sr=1-5',\n",
       " 'https://www.amazon.in/ASUS-15-6-inch-i9-12900H-Office-2021-G533ZW-LN106WS/dp/B09TPHM8WK/ref=sr_1_6?crid=1YHAKQL3066XT&keywords=Laptop&qid=1655311599&refinements=p_n_feature_thirteen_browse-bin%3A16757432031&rnid=12598141031&s=computers&sprefix=laptop%2Caps%2C575&sr=1-6',\n",
       " 'https://www.amazon.in/ASUS-i9-12900H-Graphics-Gaming-G733ZW-LL139WS/dp/B09X5HYQQ7/ref=sr_1_7?crid=1YHAKQL3066XT&keywords=Laptop&qid=1655311599&refinements=p_n_feature_thirteen_browse-bin%3A16757432031&rnid=12598141031&s=computers&sprefix=laptop%2Caps%2C575&sr=1-7',\n",
       " 'https://www.amazon.in/ASUS-Zephyrus-i9-12900H-Graphics-GU603ZX-K8024WS/dp/B0B2YZVL35/ref=sr_1_8?crid=1YHAKQL3066XT&keywords=Laptop&qid=1655311599&refinements=p_n_feature_thirteen_browse-bin%3A16757432031&rnid=12598141031&s=computers&sprefix=laptop%2Caps%2C575&sr=1-8',\n",
       " 'https://www.amazon.in/HP-GeForce-Graphics-15-ep1087TX-Natural/dp/B09VGTJJ2C/ref=sr_1_9?crid=1YHAKQL3066XT&keywords=Laptop&qid=1655311599&refinements=p_n_feature_thirteen_browse-bin%3A16757432031&rnid=12598141031&s=computers&sprefix=laptop%2Caps%2C575&sr=1-9',\n",
       " 'https://www.amazon.in/Lenovo-Legion-Windows-Graphics-81YU006HIN/dp/B08GG9RZJC/ref=sr_1_10?crid=1YHAKQL3066XT&keywords=Laptop&qid=1655311599&refinements=p_n_feature_thirteen_browse-bin%3A16757432031&rnid=12598141031&s=computers&sprefix=laptop%2Caps%2C575&sr=1-10']"
      ]
     },
     "execution_count": 300,
     "metadata": {},
     "output_type": "execute_result"
    }
   ],
   "source": [
    "url = []\n",
    "\n",
    "link = driver.find_elements_by_xpath('//a[@class=\"a-link-normal s-underline-text s-underline-link-text s-link-style a-text-normal\"]')[:10]\n",
    "\n",
    "for i in link:\n",
    "    url.append(i.get_attribute('href'))\n",
    "    \n",
    "url  "
   ]
  },
  {
   "cell_type": "code",
   "execution_count": 301,
   "id": "be66304d",
   "metadata": {},
   "outputs": [],
   "source": [
    "Ratings = []"
   ]
  },
  {
   "cell_type": "code",
   "execution_count": 318,
   "id": "fc46c093",
   "metadata": {},
   "outputs": [
    {
     "ename": "NameError",
     "evalue": "name 'NoSuchElementException' is not defined",
     "output_type": "error",
     "traceback": [
      "\u001b[1;31m---------------------------------------------------------------------------\u001b[0m",
      "\u001b[1;31mNoSuchElementException\u001b[0m                    Traceback (most recent call last)",
      "\u001b[1;32m~\\AppData\\Local\\Temp/ipykernel_7652/260696374.py\u001b[0m in \u001b[0;36m<module>\u001b[1;34m\u001b[0m\n\u001b[0;32m      3\u001b[0m         \u001b[0mdriver\u001b[0m\u001b[1;33m.\u001b[0m\u001b[0mget\u001b[0m\u001b[1;33m(\u001b[0m\u001b[0mi\u001b[0m\u001b[1;33m)\u001b[0m\u001b[1;33m\u001b[0m\u001b[1;33m\u001b[0m\u001b[0m\n\u001b[1;32m----> 4\u001b[1;33m         \u001b[0mR\u001b[0m \u001b[1;33m=\u001b[0m \u001b[0mdriver\u001b[0m\u001b[1;33m.\u001b[0m\u001b[0mfind_element_by_xpath\u001b[0m\u001b[1;33m(\u001b[0m\u001b[1;34m'//span[@class=\"a-size-base a-\"]'\u001b[0m\u001b[1;33m)\u001b[0m\u001b[1;33m\u001b[0m\u001b[1;33m\u001b[0m\u001b[0m\n\u001b[0m\u001b[0;32m      5\u001b[0m         \u001b[0mR1\u001b[0m\u001b[1;33m=\u001b[0m\u001b[1;33m[\u001b[0m\u001b[1;33m]\u001b[0m\u001b[1;33m\u001b[0m\u001b[1;33m\u001b[0m\u001b[0m\n",
      "\u001b[1;32m~\\anaconda3\\lib\\site-packages\\selenium\\webdriver\\remote\\webdriver.py\u001b[0m in \u001b[0;36mfind_element_by_xpath\u001b[1;34m(self, xpath)\u001b[0m\n\u001b[0;32m    525\u001b[0m         )\n\u001b[1;32m--> 526\u001b[1;33m         \u001b[1;32mreturn\u001b[0m \u001b[0mself\u001b[0m\u001b[1;33m.\u001b[0m\u001b[0mfind_element\u001b[0m\u001b[1;33m(\u001b[0m\u001b[0mby\u001b[0m\u001b[1;33m=\u001b[0m\u001b[0mBy\u001b[0m\u001b[1;33m.\u001b[0m\u001b[0mXPATH\u001b[0m\u001b[1;33m,\u001b[0m \u001b[0mvalue\u001b[0m\u001b[1;33m=\u001b[0m\u001b[0mxpath\u001b[0m\u001b[1;33m)\u001b[0m\u001b[1;33m\u001b[0m\u001b[1;33m\u001b[0m\u001b[0m\n\u001b[0m\u001b[0;32m    527\u001b[0m \u001b[1;33m\u001b[0m\u001b[0m\n",
      "\u001b[1;32m~\\anaconda3\\lib\\site-packages\\selenium\\webdriver\\remote\\webdriver.py\u001b[0m in \u001b[0;36mfind_element\u001b[1;34m(self, by, value)\u001b[0m\n\u001b[0;32m   1250\u001b[0m \u001b[1;33m\u001b[0m\u001b[0m\n\u001b[1;32m-> 1251\u001b[1;33m         return self.execute(Command.FIND_ELEMENT, {\n\u001b[0m\u001b[0;32m   1252\u001b[0m             \u001b[1;34m'using'\u001b[0m\u001b[1;33m:\u001b[0m \u001b[0mby\u001b[0m\u001b[1;33m,\u001b[0m\u001b[1;33m\u001b[0m\u001b[1;33m\u001b[0m\u001b[0m\n",
      "\u001b[1;32m~\\anaconda3\\lib\\site-packages\\selenium\\webdriver\\remote\\webdriver.py\u001b[0m in \u001b[0;36mexecute\u001b[1;34m(self, driver_command, params)\u001b[0m\n\u001b[0;32m    429\u001b[0m         \u001b[1;32mif\u001b[0m \u001b[0mresponse\u001b[0m\u001b[1;33m:\u001b[0m\u001b[1;33m\u001b[0m\u001b[1;33m\u001b[0m\u001b[0m\n\u001b[1;32m--> 430\u001b[1;33m             \u001b[0mself\u001b[0m\u001b[1;33m.\u001b[0m\u001b[0merror_handler\u001b[0m\u001b[1;33m.\u001b[0m\u001b[0mcheck_response\u001b[0m\u001b[1;33m(\u001b[0m\u001b[0mresponse\u001b[0m\u001b[1;33m)\u001b[0m\u001b[1;33m\u001b[0m\u001b[1;33m\u001b[0m\u001b[0m\n\u001b[0m\u001b[0;32m    431\u001b[0m             response['value'] = self._unwrap_value(\n",
      "\u001b[1;32m~\\anaconda3\\lib\\site-packages\\selenium\\webdriver\\remote\\errorhandler.py\u001b[0m in \u001b[0;36mcheck_response\u001b[1;34m(self, response)\u001b[0m\n\u001b[0;32m    246\u001b[0m             \u001b[1;32mraise\u001b[0m \u001b[0mexception_class\u001b[0m\u001b[1;33m(\u001b[0m\u001b[0mmessage\u001b[0m\u001b[1;33m,\u001b[0m \u001b[0mscreen\u001b[0m\u001b[1;33m,\u001b[0m \u001b[0mstacktrace\u001b[0m\u001b[1;33m,\u001b[0m \u001b[0malert_text\u001b[0m\u001b[1;33m)\u001b[0m  \u001b[1;31m# type: ignore[call-arg]  # mypy is not smart enough here\u001b[0m\u001b[1;33m\u001b[0m\u001b[1;33m\u001b[0m\u001b[0m\n\u001b[1;32m--> 247\u001b[1;33m         \u001b[1;32mraise\u001b[0m \u001b[0mexception_class\u001b[0m\u001b[1;33m(\u001b[0m\u001b[0mmessage\u001b[0m\u001b[1;33m,\u001b[0m \u001b[0mscreen\u001b[0m\u001b[1;33m,\u001b[0m \u001b[0mstacktrace\u001b[0m\u001b[1;33m)\u001b[0m\u001b[1;33m\u001b[0m\u001b[1;33m\u001b[0m\u001b[0m\n\u001b[0m\u001b[0;32m    248\u001b[0m \u001b[1;33m\u001b[0m\u001b[0m\n",
      "\u001b[1;31mNoSuchElementException\u001b[0m: Message: no such element: Unable to locate element: {\"method\":\"xpath\",\"selector\":\"//span[@class=\"a-size-base a-\"]\"}\n  (Session info: chrome=102.0.5005.115)\nStacktrace:\nBacktrace:\n\tOrdinal0 [0x0048D953+2414931]\n\tOrdinal0 [0x0041F5E1+1963489]\n\tOrdinal0 [0x0030C6B8+837304]\n\tOrdinal0 [0x00339500+1021184]\n\tOrdinal0 [0x0033979B+1021851]\n\tOrdinal0 [0x00366502+1205506]\n\tOrdinal0 [0x003544E4+1131748]\n\tOrdinal0 [0x00364812+1198098]\n\tOrdinal0 [0x003542B6+1131190]\n\tOrdinal0 [0x0032E860+976992]\n\tOrdinal0 [0x0032F756+980822]\n\tGetHandleVerifier [0x006FCC62+2510274]\n\tGetHandleVerifier [0x006EF760+2455744]\n\tGetHandleVerifier [0x0051EABA+551962]\n\tGetHandleVerifier [0x0051D916+547446]\n\tOrdinal0 [0x00425F3B+1990459]\n\tOrdinal0 [0x0042A898+2009240]\n\tOrdinal0 [0x0042A985+2009477]\n\tOrdinal0 [0x00433AD1+2046673]\n\tBaseThreadInitThunk [0x75E66739+25]\n\tRtlGetFullPathName_UEx [0x77558FEF+1215]\n\tRtlGetFullPathName_UEx [0x77558FBD+1165]\n",
      "\nDuring handling of the above exception, another exception occurred:\n",
      "\u001b[1;31mNameError\u001b[0m                                 Traceback (most recent call last)",
      "\u001b[1;32m~\\AppData\\Local\\Temp/ipykernel_7652/260696374.py\u001b[0m in \u001b[0;36m<module>\u001b[1;34m\u001b[0m\n\u001b[0;32m      8\u001b[0m             \u001b[0mRatings\u001b[0m\u001b[1;33m.\u001b[0m\u001b[0mappend\u001b[0m\u001b[1;33m(\u001b[0m\u001b[0mR1\u001b[0m\u001b[1;33m[\u001b[0m\u001b[0mk\u001b[0m\u001b[1;33m]\u001b[0m\u001b[1;33m[\u001b[0m\u001b[1;33m:\u001b[0m\u001b[1;36m3\u001b[0m\u001b[1;33m]\u001b[0m\u001b[1;33m)\u001b[0m\u001b[1;33m\u001b[0m\u001b[1;33m\u001b[0m\u001b[0m\n\u001b[0;32m      9\u001b[0m \u001b[1;33m\u001b[0m\u001b[0m\n\u001b[1;32m---> 10\u001b[1;33m     \u001b[1;32mexcept\u001b[0m \u001b[0mNoSuchElementException\u001b[0m\u001b[1;33m:\u001b[0m\u001b[1;33m\u001b[0m\u001b[1;33m\u001b[0m\u001b[0m\n\u001b[0m\u001b[0;32m     11\u001b[0m         \u001b[0mN\u001b[0m \u001b[1;33m=\u001b[0m \u001b[1;33m[\u001b[0m\u001b[1;34m'No Ratings'\u001b[0m\u001b[1;33m]\u001b[0m\u001b[1;33m\u001b[0m\u001b[1;33m\u001b[0m\u001b[0m\n\u001b[0;32m     12\u001b[0m         \u001b[1;32mfor\u001b[0m \u001b[0mi\u001b[0m \u001b[1;32min\u001b[0m \u001b[0mN\u001b[0m\u001b[1;33m:\u001b[0m\u001b[1;33m\u001b[0m\u001b[1;33m\u001b[0m\u001b[0m\n",
      "\u001b[1;31mNameError\u001b[0m: name 'NoSuchElementException' is not defined"
     ]
    }
   ],
   "source": [
    "for i in url:\n",
    "    try:\n",
    "        driver.get(i)\n",
    "        R = driver.find_element_by_xpath('//span[@class=\"a-size-base a-\"]')\n",
    "        R1=[]\n",
    "        R1.append(R.text.replace('o',' '))\n",
    "        for k in range(0,len(R1)):\n",
    "            Ratings.append(R1[k][:3])\n",
    "    \n",
    "    except NoSuchElementException:\n",
    "        N = ['No Ratings']\n",
    "        for i in N:\n",
    "            Ratings.append(i)\n",
    "        pass"
   ]
  },
  {
   "cell_type": "code",
   "execution_count": null,
   "id": "bb73cbf0",
   "metadata": {},
   "outputs": [],
   "source": [
    "Ratings"
   ]
  },
  {
   "cell_type": "code",
   "execution_count": null,
   "id": "4de4b848",
   "metadata": {},
   "outputs": [],
   "source": [
    "import pandas as pd\n",
    "laptop = pd.DataFrame({'Title' : Title, 'Rating' : Ratings, 'Price' : Price})\n",
    "laptop"
   ]
  },
  {
   "cell_type": "code",
   "execution_count": 324,
   "id": "e9ace4f8",
   "metadata": {},
   "outputs": [],
   "source": [
    "url = 'https://www.ambitionbox.com/'\n",
    "driver.get(url)"
   ]
  },
  {
   "cell_type": "code",
   "execution_count": 325,
   "id": "9a065c0f",
   "metadata": {},
   "outputs": [],
   "source": [
    "select_job = driver.find_element_by_xpath('//a[@class=\"link jobs\"]')\n",
    "\n",
    "select_job.click()"
   ]
  },
  {
   "cell_type": "code",
   "execution_count": 326,
   "id": "e2fe5bd4",
   "metadata": {},
   "outputs": [],
   "source": [
    "search_job = driver.find_element_by_xpath('//input[@class=\"input tt-input\"]')\n",
    "search_job.send_keys('Data Scientist')"
   ]
  },
  {
   "cell_type": "code",
   "execution_count": 327,
   "id": "94425a5e",
   "metadata": {},
   "outputs": [],
   "source": [
    "search_bar = driver.find_element_by_xpath('//span[@class=\"ctas-btn-medium\"]')\n",
    "search_bar.click()"
   ]
  },
  {
   "cell_type": "code",
   "execution_count": 328,
   "id": "df93935b",
   "metadata": {},
   "outputs": [],
   "source": [
    "#Selecting Location Filter\n",
    "loc = driver.find_element_by_xpath('/html/body/div/div/div/div[2]/div[1]/div[2]/div[1]/div/div/div/div[2]/div[1]/i')\n",
    "loc.click()"
   ]
  },
  {
   "cell_type": "code",
   "execution_count": 330,
   "id": "3571fb10",
   "metadata": {},
   "outputs": [],
   "source": [
    "#Writing Noida in location\n",
    "box = driver.find_element_by_xpath('/html/body/div/div/div/div[2]/div[1]/div[2]/div[1]/div/div/div/div[2]/div[2]/div/div[2]/input')\n",
    "box.send_keys('Noida')"
   ]
  },
  {
   "cell_type": "code",
   "execution_count": 333,
   "id": "16b3073e",
   "metadata": {},
   "outputs": [],
   "source": [
    "#Selecting Noida from dropdown\n",
    "select = driver.find_element_by_xpath('/html/body/div/div/div/div[2]/div[1]/div[2]/div[1]/div/div/div/div[2]/div[2]/div/div[3]/div[1]/div[1]/div/label')\n",
    "select.click()\n",
    "\n",
    "time.sleep(3)"
   ]
  },
  {
   "cell_type": "code",
   "execution_count": 334,
   "id": "d5c1db00",
   "metadata": {},
   "outputs": [
    {
     "data": {
      "text/plain": [
       "['GENPACT India Private Limited',\n",
       " 'Optum Global Solutions (India) Private Limited',\n",
       " 'GENPACT India Private Limited',\n",
       " 'Hcl Technologies Limited',\n",
       " 'EXL Services.com ( I ) Pvt. Ltd.',\n",
       " 'Paytm',\n",
       " 'Om Software Internet Solutions Private Limited',\n",
       " 'Paytm',\n",
       " 'MOTHERSONSUMI INFOTECH & DESIGNS LIMITED',\n",
       " 'Ashkom Media India Private Limited']"
      ]
     },
     "execution_count": 334,
     "metadata": {},
     "output_type": "execute_result"
    }
   ],
   "source": [
    "# Extracting Required Data\n",
    "name = driver.find_elements_by_xpath('//p[@class=\"company body-medium\"]')[:10]\n",
    "\n",
    "Name = []\n",
    "\n",
    "for i in name:\n",
    "    Name.append(i.text)\n",
    "    \n",
    "Name"
   ]
  },
  {
   "cell_type": "code",
   "execution_count": 335,
   "id": "242b4459",
   "metadata": {},
   "outputs": [
    {
     "data": {
      "text/plain": [
       "['4.0', '4.2', '4.0', '3.9', '3.9', '3.7', '4.5', '3.7', '3.3', '3.5']"
      ]
     },
     "execution_count": 335,
     "metadata": {},
     "output_type": "execute_result"
    }
   ],
   "source": [
    "rating = driver.find_elements_by_xpath('//span[@class=\"body-small\"]')[:10]\n",
    "\n",
    "Rating = []\n",
    "\n",
    "for i in rating:\n",
    "    Rating.append(i.text)\n",
    "    \n",
    "Rating"
   ]
  },
  {
   "cell_type": "code",
   "execution_count": 336,
   "id": "37154d69",
   "metadata": {},
   "outputs": [
    {
     "data": {
      "text/plain": [
       "['5d ago',\n",
       " '13d ago',\n",
       " '12d ago',\n",
       " '15d ago',\n",
       " '26d ago',\n",
       " '8d ago',\n",
       " '16d ago',\n",
       " '26d ago',\n",
       " '13d ago',\n",
       " '12d ago']"
      ]
     },
     "execution_count": 336,
     "metadata": {},
     "output_type": "execute_result"
    }
   ],
   "source": [
    "days = driver.find_elements_by_xpath('//span[@class=\"body-small-l\"][1]')[:10]\n",
    "\n",
    "Days = []\n",
    "\n",
    "for i in days:\n",
    "    Days.append(i.text)\n",
    "    \n",
    "Days"
   ]
  },
  {
   "cell_type": "code",
   "execution_count": 337,
   "id": "be51f8a2",
   "metadata": {},
   "outputs": [
    {
     "data": {
      "text/html": [
       "<div>\n",
       "<style scoped>\n",
       "    .dataframe tbody tr th:only-of-type {\n",
       "        vertical-align: middle;\n",
       "    }\n",
       "\n",
       "    .dataframe tbody tr th {\n",
       "        vertical-align: top;\n",
       "    }\n",
       "\n",
       "    .dataframe thead th {\n",
       "        text-align: right;\n",
       "    }\n",
       "</style>\n",
       "<table border=\"1\" class=\"dataframe\">\n",
       "  <thead>\n",
       "    <tr style=\"text-align: right;\">\n",
       "      <th></th>\n",
       "      <th>Company Name</th>\n",
       "      <th>Rating</th>\n",
       "      <th>Job Posted</th>\n",
       "    </tr>\n",
       "  </thead>\n",
       "  <tbody>\n",
       "    <tr>\n",
       "      <th>0</th>\n",
       "      <td>GENPACT India Private Limited</td>\n",
       "      <td>4.0</td>\n",
       "      <td>5d ago</td>\n",
       "    </tr>\n",
       "    <tr>\n",
       "      <th>1</th>\n",
       "      <td>Optum Global Solutions (India) Private Limited</td>\n",
       "      <td>4.2</td>\n",
       "      <td>13d ago</td>\n",
       "    </tr>\n",
       "    <tr>\n",
       "      <th>2</th>\n",
       "      <td>GENPACT India Private Limited</td>\n",
       "      <td>4.0</td>\n",
       "      <td>12d ago</td>\n",
       "    </tr>\n",
       "    <tr>\n",
       "      <th>3</th>\n",
       "      <td>Hcl Technologies Limited</td>\n",
       "      <td>3.9</td>\n",
       "      <td>15d ago</td>\n",
       "    </tr>\n",
       "    <tr>\n",
       "      <th>4</th>\n",
       "      <td>EXL Services.com ( I ) Pvt. Ltd.</td>\n",
       "      <td>3.9</td>\n",
       "      <td>26d ago</td>\n",
       "    </tr>\n",
       "    <tr>\n",
       "      <th>5</th>\n",
       "      <td>Paytm</td>\n",
       "      <td>3.7</td>\n",
       "      <td>8d ago</td>\n",
       "    </tr>\n",
       "    <tr>\n",
       "      <th>6</th>\n",
       "      <td>Om Software Internet Solutions Private Limited</td>\n",
       "      <td>4.5</td>\n",
       "      <td>16d ago</td>\n",
       "    </tr>\n",
       "    <tr>\n",
       "      <th>7</th>\n",
       "      <td>Paytm</td>\n",
       "      <td>3.7</td>\n",
       "      <td>26d ago</td>\n",
       "    </tr>\n",
       "    <tr>\n",
       "      <th>8</th>\n",
       "      <td>MOTHERSONSUMI INFOTECH &amp; DESIGNS LIMITED</td>\n",
       "      <td>3.3</td>\n",
       "      <td>13d ago</td>\n",
       "    </tr>\n",
       "    <tr>\n",
       "      <th>9</th>\n",
       "      <td>Ashkom Media India Private Limited</td>\n",
       "      <td>3.5</td>\n",
       "      <td>12d ago</td>\n",
       "    </tr>\n",
       "  </tbody>\n",
       "</table>\n",
       "</div>"
      ],
      "text/plain": [
       "                                     Company Name Rating Job Posted\n",
       "0                   GENPACT India Private Limited    4.0     5d ago\n",
       "1  Optum Global Solutions (India) Private Limited    4.2    13d ago\n",
       "2                   GENPACT India Private Limited    4.0    12d ago\n",
       "3                        Hcl Technologies Limited    3.9    15d ago\n",
       "4                EXL Services.com ( I ) Pvt. Ltd.    3.9    26d ago\n",
       "5                                           Paytm    3.7     8d ago\n",
       "6  Om Software Internet Solutions Private Limited    4.5    16d ago\n",
       "7                                           Paytm    3.7    26d ago\n",
       "8        MOTHERSONSUMI INFOTECH & DESIGNS LIMITED    3.3    13d ago\n",
       "9              Ashkom Media India Private Limited    3.5    12d ago"
      ]
     },
     "execution_count": 337,
     "metadata": {},
     "output_type": "execute_result"
    }
   ],
   "source": [
    "import pandas as pd\n",
    "Jobs = pd.DataFrame({'Company Name' : Name, 'Rating' : Rating, 'Job Posted' : Days})\n",
    "Jobs"
   ]
  },
  {
   "cell_type": "markdown",
   "id": "4eaa35c0",
   "metadata": {},
   "source": [
    "Question 10"
   ]
  },
  {
   "cell_type": "code",
   "execution_count": 338,
   "id": "2ea5434a",
   "metadata": {},
   "outputs": [],
   "source": [
    "url = 'https://www.ambitionbox.com/'\n",
    "driver.get(url)"
   ]
  },
  {
   "cell_type": "code",
   "execution_count": 339,
   "id": "f31d3ce6",
   "metadata": {},
   "outputs": [],
   "source": [
    "#Selecting Salary filter\n",
    "select_salary = driver.find_element_by_xpath('//a[@class=\"link salaries\"]')\n",
    "\n",
    "select_salary.click()"
   ]
  },
  {
   "cell_type": "code",
   "execution_count": 340,
   "id": "9d387dac",
   "metadata": {},
   "outputs": [],
   "source": [
    "search_job = driver.find_element_by_xpath('//input[@class=\"tt-input\"]')\n",
    "search_job.send_keys('Data Scientist')"
   ]
  },
  {
   "cell_type": "code",
   "execution_count": 341,
   "id": "9baa8bd7",
   "metadata": {},
   "outputs": [],
   "source": [
    "select = driver.find_element_by_xpath('//p[@class=\"tt_text\"]')\n",
    "select.click()\n",
    "\n",
    "time.sleep(3)"
   ]
  },
  {
   "cell_type": "code",
   "execution_count": 342,
   "id": "b5c0666c",
   "metadata": {},
   "outputs": [
    {
     "data": {
      "text/plain": [
       "['Walmart based on 12 salaries',\n",
       " 'Ab Inbev based on 33 salaries',\n",
       " 'American Express based on 10 salaries',\n",
       " 'ZS based on 15 salaries',\n",
       " 'Optum based on 33 salaries',\n",
       " 'Reliance Jio based on 21 salaries',\n",
       " 'Fractal Analytics based on 83 salaries',\n",
       " 'Tiger Analytics based on 50 salaries',\n",
       " 'UnitedHealth based on 57 salaries',\n",
       " 'EXL Service based on 10 salaries']"
      ]
     },
     "execution_count": 342,
     "metadata": {},
     "output_type": "execute_result"
    }
   ],
   "source": [
    "company = driver.find_elements_by_xpath('//div[@class=\"name\"]')\n",
    "\n",
    "Company = []\n",
    "\n",
    "for i in company:\n",
    "    Company.append(i.text.replace('\\n',' '))\n",
    "    \n",
    "Company"
   ]
  },
  {
   "cell_type": "code",
   "execution_count": 343,
   "id": "7e91286d",
   "metadata": {},
   "outputs": [
    {
     "data": {
      "text/plain": [
       "['₹ 25.0L',\n",
       " '₹ 15.0L',\n",
       " '₹ 14.1L',\n",
       " '₹ 11.0L',\n",
       " '₹ 11.0L',\n",
       " '₹ 5.6L',\n",
       " '₹ 10.0L',\n",
       " '₹ 9.0L',\n",
       " '₹ 8.3L',\n",
       " '₹ 8.9L']"
      ]
     },
     "execution_count": 343,
     "metadata": {},
     "output_type": "execute_result"
    }
   ],
   "source": [
    "minimum = driver.find_elements_by_xpath('//div[@class=\"value body-medium\"][1]')\n",
    "\n",
    "Minimum = []\n",
    "\n",
    "for i in minimum:\n",
    "    Minimum.append(i.text)\n",
    "    \n",
    "Minimum"
   ]
  },
  {
   "cell_type": "code",
   "execution_count": 344,
   "id": "b49ab0ac",
   "metadata": {},
   "outputs": [
    {
     "data": {
      "text/plain": [
       "['₹ 36.0L',\n",
       " '₹ 25.5L',\n",
       " '₹ 25.0L',\n",
       " '₹ 22.0L',\n",
       " '₹ 22.6L',\n",
       " '₹ 26.2L',\n",
       " '₹ 22.0L',\n",
       " '₹ 20.0L',\n",
       " '₹ 21.1L',\n",
       " '₹ 21.0L']"
      ]
     },
     "execution_count": 344,
     "metadata": {},
     "output_type": "execute_result"
    }
   ],
   "source": [
    "maximum = driver.find_elements_by_xpath('//div[@class=\"value body-medium\"][2]')\n",
    "\n",
    "Maximum = []\n",
    "\n",
    "for i in maximum:\n",
    "    Maximum.append(i.text)\n",
    "    \n",
    "Maximum"
   ]
  },
  {
   "cell_type": "code",
   "execution_count": 345,
   "id": "efa301c2",
   "metadata": {},
   "outputs": [
    {
     "data": {
      "text/plain": [
       "['₹ 30.2L',\n",
       " '₹ 20.6L',\n",
       " '₹ 19.9L',\n",
       " '₹ 16.7L',\n",
       " '₹ 16.1L',\n",
       " '₹ 15.7L',\n",
       " '₹ 15.4L',\n",
       " '₹ 14.8L',\n",
       " '₹ 14.0L',\n",
       " '₹ 13.3L']"
      ]
     },
     "execution_count": 345,
     "metadata": {},
     "output_type": "execute_result"
    }
   ],
   "source": [
    "avg = driver.find_elements_by_xpath('//p[@class=\"averageCtc\"]')\n",
    "\n",
    "Avg = []\n",
    "\n",
    "for i in avg:\n",
    "    Avg.append(i.text)\n",
    "    \n",
    "Avg"
   ]
  },
  {
   "cell_type": "code",
   "execution_count": 346,
   "id": "203d0b45",
   "metadata": {},
   "outputs": [
    {
     "data": {
      "text/plain": [
       "['Data Scientist  .  3 yrs exp',\n",
       " 'Data Scientist  .  3-4 yrs exp',\n",
       " 'Data Scientist  .  4 yrs exp',\n",
       " 'Data Scientist  .  2 yrs exp',\n",
       " 'Data Scientist  .  3-4 yrs exp',\n",
       " 'Data Scientist  .  3-4 yrs exp',\n",
       " 'Data Scientist  .  2-4 yrs exp',\n",
       " 'Data Scientist  .  2-4 yrs exp',\n",
       " 'Data Scientist  .  2-4 yrs exp',\n",
       " 'Data Scientist  .  4 yrs exp']"
      ]
     },
     "execution_count": 346,
     "metadata": {},
     "output_type": "execute_result"
    }
   ],
   "source": [
    "exp = driver.find_elements_by_xpath('//div[@class=\"salaries sbold-list-header\"]')\n",
    "\n",
    "Exp = []\n",
    "\n",
    "for i in exp:\n",
    "    Exp.append(i.text.replace('\\n', ' '))\n",
    "    \n",
    "Exp"
   ]
  },
  {
   "cell_type": "code",
   "execution_count": 347,
   "id": "57ea2468",
   "metadata": {},
   "outputs": [],
   "source": [
    "import pandas as pd"
   ]
  },
  {
   "cell_type": "code",
   "execution_count": 348,
   "id": "f5c6a10a",
   "metadata": {},
   "outputs": [
    {
     "data": {
      "text/html": [
       "<div>\n",
       "<style scoped>\n",
       "    .dataframe tbody tr th:only-of-type {\n",
       "        vertical-align: middle;\n",
       "    }\n",
       "\n",
       "    .dataframe tbody tr th {\n",
       "        vertical-align: top;\n",
       "    }\n",
       "\n",
       "    .dataframe thead th {\n",
       "        text-align: right;\n",
       "    }\n",
       "</style>\n",
       "<table border=\"1\" class=\"dataframe\">\n",
       "  <thead>\n",
       "    <tr style=\"text-align: right;\">\n",
       "      <th></th>\n",
       "      <th>Min_Salary</th>\n",
       "      <th>Max_Salary</th>\n",
       "      <th>Company</th>\n",
       "      <th>Avg_Salary</th>\n",
       "      <th>Role and Experience</th>\n",
       "    </tr>\n",
       "  </thead>\n",
       "  <tbody>\n",
       "    <tr>\n",
       "      <th>0</th>\n",
       "      <td>₹ 25.0L</td>\n",
       "      <td>₹ 36.0L</td>\n",
       "      <td>Walmart based on 12 salaries</td>\n",
       "      <td>₹ 30.2L</td>\n",
       "      <td>Data Scientist  .  3 yrs exp</td>\n",
       "    </tr>\n",
       "    <tr>\n",
       "      <th>1</th>\n",
       "      <td>₹ 15.0L</td>\n",
       "      <td>₹ 25.5L</td>\n",
       "      <td>Ab Inbev based on 33 salaries</td>\n",
       "      <td>₹ 20.6L</td>\n",
       "      <td>Data Scientist  .  3-4 yrs exp</td>\n",
       "    </tr>\n",
       "    <tr>\n",
       "      <th>2</th>\n",
       "      <td>₹ 14.1L</td>\n",
       "      <td>₹ 25.0L</td>\n",
       "      <td>American Express based on 10 salaries</td>\n",
       "      <td>₹ 19.9L</td>\n",
       "      <td>Data Scientist  .  4 yrs exp</td>\n",
       "    </tr>\n",
       "    <tr>\n",
       "      <th>3</th>\n",
       "      <td>₹ 11.0L</td>\n",
       "      <td>₹ 22.0L</td>\n",
       "      <td>ZS based on 15 salaries</td>\n",
       "      <td>₹ 16.7L</td>\n",
       "      <td>Data Scientist  .  2 yrs exp</td>\n",
       "    </tr>\n",
       "    <tr>\n",
       "      <th>4</th>\n",
       "      <td>₹ 11.0L</td>\n",
       "      <td>₹ 22.6L</td>\n",
       "      <td>Optum based on 33 salaries</td>\n",
       "      <td>₹ 16.1L</td>\n",
       "      <td>Data Scientist  .  3-4 yrs exp</td>\n",
       "    </tr>\n",
       "    <tr>\n",
       "      <th>5</th>\n",
       "      <td>₹ 5.6L</td>\n",
       "      <td>₹ 26.2L</td>\n",
       "      <td>Reliance Jio based on 21 salaries</td>\n",
       "      <td>₹ 15.7L</td>\n",
       "      <td>Data Scientist  .  3-4 yrs exp</td>\n",
       "    </tr>\n",
       "    <tr>\n",
       "      <th>6</th>\n",
       "      <td>₹ 10.0L</td>\n",
       "      <td>₹ 22.0L</td>\n",
       "      <td>Fractal Analytics based on 83 salaries</td>\n",
       "      <td>₹ 15.4L</td>\n",
       "      <td>Data Scientist  .  2-4 yrs exp</td>\n",
       "    </tr>\n",
       "    <tr>\n",
       "      <th>7</th>\n",
       "      <td>₹ 9.0L</td>\n",
       "      <td>₹ 20.0L</td>\n",
       "      <td>Tiger Analytics based on 50 salaries</td>\n",
       "      <td>₹ 14.8L</td>\n",
       "      <td>Data Scientist  .  2-4 yrs exp</td>\n",
       "    </tr>\n",
       "    <tr>\n",
       "      <th>8</th>\n",
       "      <td>₹ 8.3L</td>\n",
       "      <td>₹ 21.1L</td>\n",
       "      <td>UnitedHealth based on 57 salaries</td>\n",
       "      <td>₹ 14.0L</td>\n",
       "      <td>Data Scientist  .  2-4 yrs exp</td>\n",
       "    </tr>\n",
       "    <tr>\n",
       "      <th>9</th>\n",
       "      <td>₹ 8.9L</td>\n",
       "      <td>₹ 21.0L</td>\n",
       "      <td>EXL Service based on 10 salaries</td>\n",
       "      <td>₹ 13.3L</td>\n",
       "      <td>Data Scientist  .  4 yrs exp</td>\n",
       "    </tr>\n",
       "  </tbody>\n",
       "</table>\n",
       "</div>"
      ],
      "text/plain": [
       "  Min_Salary Max_Salary                                 Company Avg_Salary  \\\n",
       "0    ₹ 25.0L    ₹ 36.0L            Walmart based on 12 salaries    ₹ 30.2L   \n",
       "1    ₹ 15.0L    ₹ 25.5L           Ab Inbev based on 33 salaries    ₹ 20.6L   \n",
       "2    ₹ 14.1L    ₹ 25.0L   American Express based on 10 salaries    ₹ 19.9L   \n",
       "3    ₹ 11.0L    ₹ 22.0L                 ZS based on 15 salaries    ₹ 16.7L   \n",
       "4    ₹ 11.0L    ₹ 22.6L              Optum based on 33 salaries    ₹ 16.1L   \n",
       "5     ₹ 5.6L    ₹ 26.2L       Reliance Jio based on 21 salaries    ₹ 15.7L   \n",
       "6    ₹ 10.0L    ₹ 22.0L  Fractal Analytics based on 83 salaries    ₹ 15.4L   \n",
       "7     ₹ 9.0L    ₹ 20.0L    Tiger Analytics based on 50 salaries    ₹ 14.8L   \n",
       "8     ₹ 8.3L    ₹ 21.1L       UnitedHealth based on 57 salaries    ₹ 14.0L   \n",
       "9     ₹ 8.9L    ₹ 21.0L        EXL Service based on 10 salaries    ₹ 13.3L   \n",
       "\n",
       "              Role and Experience  \n",
       "0    Data Scientist  .  3 yrs exp  \n",
       "1  Data Scientist  .  3-4 yrs exp  \n",
       "2    Data Scientist  .  4 yrs exp  \n",
       "3    Data Scientist  .  2 yrs exp  \n",
       "4  Data Scientist  .  3-4 yrs exp  \n",
       "5  Data Scientist  .  3-4 yrs exp  \n",
       "6  Data Scientist  .  2-4 yrs exp  \n",
       "7  Data Scientist  .  2-4 yrs exp  \n",
       "8  Data Scientist  .  2-4 yrs exp  \n",
       "9    Data Scientist  .  4 yrs exp  "
      ]
     },
     "execution_count": 348,
     "metadata": {},
     "output_type": "execute_result"
    }
   ],
   "source": [
    "Salary_Range = pd.DataFrame({'Min_Salary':Minimum, 'Max_Salary':Maximum, 'Company':Company, 'Avg_Salary':Avg, 'Role and Experience':Exp})\n",
    "Salary_Range"
   ]
  },
  {
   "cell_type": "code",
   "execution_count": null,
   "id": "05b2317a",
   "metadata": {},
   "outputs": [],
   "source": []
  }
 ],
 "metadata": {
  "kernelspec": {
   "display_name": "Python 3 (ipykernel)",
   "language": "python",
   "name": "python3"
  },
  "language_info": {
   "codemirror_mode": {
    "name": "ipython",
    "version": 3
   },
   "file_extension": ".py",
   "mimetype": "text/x-python",
   "name": "python",
   "nbconvert_exporter": "python",
   "pygments_lexer": "ipython3",
   "version": "3.9.7"
  }
 },
 "nbformat": 4,
 "nbformat_minor": 5
}
