{
 "cells": [
  {
   "cell_type": "code",
   "execution_count": 1,
   "id": "b22e2532",
   "metadata": {},
   "outputs": [
    {
     "name": "stdout",
     "output_type": "stream",
     "text": [
      "Enter the number: 12\n",
      "479001600\n"
     ]
    }
   ],
   "source": [
    "x =int(input(\"Enter the number: \"))\n",
    "\n",
    "def fact(n):\n",
    "    f=1\n",
    "    \n",
    "    for i in range(1,n+1):\n",
    "        f = f*i\n",
    "        \n",
    "    return f\n",
    "\n",
    "print(fact(x))"
   ]
  },
  {
   "cell_type": "code",
   "execution_count": null,
   "id": "5a8b1865",
   "metadata": {},
   "outputs": [],
   "source": [
    "X = int(input(\"Enter the Number: \"))\n",
    "count=0\n",
    "i=1\n",
    "while i<=X:\n",
    "    if X%i==0:\n",
    "        count=count+1\n",
    "        \n",
    "    i=i+1\n",
    "    \n",
    "if count==2:\n",
    "    print(\"Its a Prime number\")\n",
    "    \n",
    "elif count>2:\n",
    "    print(\"Its a Composite number\")\n",
    "    \n",
    "else:\n",
    "    print(\"The number is neither Prime nor composite\")"
   ]
  },
  {
   "cell_type": "code",
   "execution_count": null,
   "id": "584fefd9",
   "metadata": {},
   "outputs": [],
   "source": [
    "x=input(\"Enter String: \")\n",
    "y=x[-1::-1]\n",
    "\n",
    "if (x==y):\n",
    "    print(\"Palindrome\")\n",
    "    \n",
    "else:\n",
    "    print(\"Not Palindrome\")"
   ]
  },
  {
   "cell_type": "code",
   "execution_count": null,
   "id": "45a8b6b4",
   "metadata": {},
   "outputs": [],
   "source": [
    "#for finding hypotenuse.\n",
    "from math import sqrt\n",
    "\n",
    "x = float(input(\"Enter x: \"))\n",
    "y = float(input(\"Enter y: \"))\n",
    "\n",
    "z = sqrt(x**2 + y**2)\n",
    "\n",
    "print(\"The length of hypotenuse is:\", z)"
   ]
  },
  {
   "cell_type": "code",
   "execution_count": null,
   "id": "42457d70",
   "metadata": {},
   "outputs": [],
   "source": [
    "a = input(\"Enter the string: \")\n",
    "d = dict()\n",
    "for i in a:\n",
    "    if i in d:\n",
    "        d[i] = d[i] + 1\n",
    "    else:\n",
    "        d[i] = 1\n",
    "        \n",
    "print(d)"
   ]
  },
  {
   "cell_type": "code",
   "execution_count": null,
   "id": "fb4b8499",
   "metadata": {},
   "outputs": [],
   "source": []
  }
 ],
 "metadata": {
  "kernelspec": {
   "display_name": "Python 3 (ipykernel)",
   "language": "python",
   "name": "python3"
  },
  "language_info": {
   "codemirror_mode": {
    "name": "ipython",
    "version": 3
   },
   "file_extension": ".py",
   "mimetype": "text/x-python",
   "name": "python",
   "nbconvert_exporter": "python",
   "pygments_lexer": "ipython3",
   "version": "3.9.7"
  }
 },
 "nbformat": 4,
 "nbformat_minor": 5
}
